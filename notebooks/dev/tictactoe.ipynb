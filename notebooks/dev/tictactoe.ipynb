{
 "cells": [
  {
   "cell_type": "markdown",
   "metadata": {},
   "source": [
    "# Introduction\n",
    "In this notebook, we implement a simple Tic Tac Toe game, then write a guidance program to make a language model play Tic Tac Toe"
   ]
  },
  {
   "cell_type": "code",
   "execution_count": 4,
   "metadata": {},
   "outputs": [],
   "source": [
    "import guidance\n",
    "from guidance import models, gen, any_char, any_char_but, regex, substring, substring_no_empty, with_temperature"
   ]
  },
  {
   "cell_type": "code",
   "execution_count": 2,
   "metadata": {},
   "outputs": [],
   "source": [
    "mistral = models.LlamaCpp(\"/Users/nicholasking/code/models/mixtral-8x7b-instruct-v0.1.Q3_K_M.gguf\", n_gpu_layers=-1, n_ctx=4096)"
   ]
  },
  {
   "cell_type": "code",
   "execution_count": 3,
   "metadata": {},
   "outputs": [],
   "source": [
    "class TicTacToe:\n",
    "    def __init__(self):\n",
    "        self.board = [[' ' for _ in range(3)] for _ in range(3)]\n",
    "        self.current_player = 'X'\n",
    "\n",
    "    def is_valid_move(self, x, y):\n",
    "        return 0 <= x < 3 and 0 <= y < 3 and self.board[x][y] == ' '\n",
    "\n",
    "    def make_move(self, x, y):\n",
    "        if self.is_valid_move(x, y):\n",
    "            self.board[x][y] = self.current_player\n",
    "            self.current_player = 'O' if self.current_player == 'X' else 'X'\n",
    "            return True\n",
    "        return False\n",
    "\n",
    "    def check_winner(self):\n",
    "        # Check rows, columns and diagonals for a winner\n",
    "        for i in range(3):\n",
    "            if self.board[i][0] == self.board[i][1] == self.board[i][2] != ' ':\n",
    "                return self.board[i][0]\n",
    "            if self.board[0][i] == self.board[1][i] == self.board[2][i] != ' ':\n",
    "                return self.board[0][i]\n",
    "        if self.board[0][0] == self.board[1][1] == self.board[2][2] != ' ':\n",
    "            return self.board[0][0]\n",
    "        if self.board[0][2] == self.board[1][1] == self.board[2][0] != ' ':\n",
    "            return self.board[0][2]\n",
    "        return None\n",
    "\n",
    "    def is_draw(self):\n",
    "        return all(self.board[x][y] != ' ' for x in range(3) for y in range(3))\n",
    "\n",
    "    def __str__(self):\n",
    "        rows = [' | '.join(row) for row in self.board]\n",
    "        return '\\n---------\\n'.join(rows)"
   ]
  },
  {
   "cell_type": "code",
   "execution_count": 21,
   "metadata": {},
   "outputs": [],
   "source": [
    "@guidance\n",
    "def tic_tac_toe_game(lm, game):\n",
    "    lm += f\"Current board:\\n{game}\\n\"\n",
    "    if game.check_winner() or game.is_draw():\n",
    "        lm += f\"Game over! Winner: {game.check_winner() if game.check_winner() else 'No one'}\\n\"\n",
    "        return lm\n",
    "    \n",
    "    lm += f\"Player {game.current_player}, choose your move (row, column): \"\n",
    "    possible_moves = [(x, y) for x in range(3) for y in range(3) if game.is_valid_move(x, y)]\n",
    "    possible_move_regex = \"|\".join([f\"({x}, {y})\" for x, y in possible_moves])\n",
    "    lm += gen(name=\"move\", stop=\"\\n\", regex=possible_move_regex, temperature=0.8)\n",
    "    x, y = eval(lm[\"move\"])\n",
    "    game.make_move(x, y)\n",
    "    return lm"
   ]
  },
  {
   "cell_type": "code",
   "execution_count": 23,
   "metadata": {},
   "outputs": [
    {
     "data": {
      "text/html": [
       "<pre style='margin: 0px; padding: 0px; vertical-align: middle; padding-left: 8px; margin-left: -8px; border-radius: 0px; border-left: 1px solid rgba(127, 127, 127, 0.2); white-space: pre-wrap; font-family: ColfaxAI, Arial; font-size: 15px; line-height: 23px;'>Current board:\n",
       "O |   |  \n",
       "---------\n",
       "  | X | X\n",
       "---------\n",
       "  | O |  \n",
       "Player X, choose your move (row, column): <span style='background-color: rgba(0.0, 165.0, 0, 0.15); border-radius: 3px;' title='1.0'>1</span>, 0</pre>"
      ],
      "text/plain": [
       "<IPython.core.display.HTML object>"
      ]
     },
     "metadata": {},
     "output_type": "display_data"
    },
    {
     "name": "stdout",
     "output_type": "stream",
     "text": [
      "Final board:\n",
      "O |   |  \n",
      "---------\n",
      "X | X | X\n",
      "---------\n",
      "  | O |  \n"
     ]
    }
   ],
   "source": [
    "game = TicTacToe()\n",
    "while not game.check_winner() and not game.is_draw():\n",
    "    lm = mistral + tic_tac_toe_game(game)\n",
    "\n",
    "print(\"Final board:\")\n",
    "print(game)"
   ]
  },
  {
   "cell_type": "code",
   "execution_count": null,
   "metadata": {},
   "outputs": [],
   "source": []
  }
 ],
 "metadata": {
  "kernelspec": {
   "display_name": "env",
   "language": "python",
   "name": "python3"
  },
  "language_info": {
   "codemirror_mode": {
    "name": "ipython",
    "version": 3
   },
   "file_extension": ".py",
   "mimetype": "text/x-python",
   "name": "python",
   "nbconvert_exporter": "python",
   "pygments_lexer": "ipython3",
   "version": "3.8.17"
  }
 },
 "nbformat": 4,
 "nbformat_minor": 2
}
