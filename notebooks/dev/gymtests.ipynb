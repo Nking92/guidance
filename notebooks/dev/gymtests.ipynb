{
 "cells": [
  {
   "cell_type": "code",
   "execution_count": 1,
   "metadata": {},
   "outputs": [],
   "source": [
    "import gymnasium as gym\n",
    "\n",
    "env = gym.make(\"CartPole-v1\")\n",
    "\n",
    "observation, info = env.reset(seed=42)\n",
    "\n",
    "for _ in range(1000):\n",
    "    action = env.action_space.sample()\n",
    "    observation, reward, terminated, truncated, info = env.step(action)\n",
    "    if terminated or truncated:\n",
    "        observation, info = env.reset()\n",
    "\n",
    "env.close()"
   ]
  },
  {
   "cell_type": "code",
   "execution_count": 1,
   "metadata": {},
   "outputs": [],
   "source": [
    "from __future__ import annotations\n",
    "\n",
    "from collections import defaultdict\n",
    "\n",
    "import matplotlib.pyplot as plt\n",
    "import numpy as np\n",
    "import seaborn as sns\n",
    "from matplotlib.patches import Patch\n",
    "from tqdm import tqdm\n",
    "\n",
    "import gymnasium as gym\n",
    "\n",
    "\n",
    "# Let's start by creating the blackjack environment.\n",
    "# Note: We are going to follow the rules from Sutton & Barto.\n",
    "# Other versions of the game can be found below for you to experiment.\n",
    "\n",
    "env = gym.make(\"Blackjack-v1\", sab=True, render_mode=\"rgb_array\")"
   ]
  },
  {
   "cell_type": "code",
   "execution_count": 7,
   "metadata": {},
   "outputs": [],
   "source": [
    "# reset the environment to get the first observation\n",
    "done = False\n",
    "observation, info = env.reset()"
   ]
  },
  {
   "cell_type": "code",
   "execution_count": 8,
   "metadata": {},
   "outputs": [
    {
     "data": {
      "text/plain": [
       "(14, 10, 0)"
      ]
     },
     "execution_count": 8,
     "metadata": {},
     "output_type": "execute_result"
    }
   ],
   "source": [
    "observation"
   ]
  },
  {
   "cell_type": "code",
   "execution_count": 9,
   "metadata": {},
   "outputs": [
    {
     "data": {
      "text/plain": [
       "{}"
      ]
     },
     "execution_count": 9,
     "metadata": {},
     "output_type": "execute_result"
    }
   ],
   "source": [
    "info"
   ]
  },
  {
   "cell_type": "code",
   "execution_count": 13,
   "metadata": {},
   "outputs": [
    {
     "name": "stdout",
     "output_type": "stream",
     "text": [
      "Your hand: 29, Dealer's showing card: 10, Usable ace: 0\n",
      "You lost.\n",
      "Final hand: 33, Dealer's hand: 10\n"
     ]
    }
   ],
   "source": [
    "print(f\"Your hand: {observation[0]}, Dealer's showing card: {observation[1]}, Usable ace: {observation[2]}\")\n",
    "\n",
    "# Player's choice\n",
    "action = input(\"Do you want to hit (1) or stick (0)? \")\n",
    "while action not in ['0', '1']:\n",
    "    action = input(\"Invalid input. Please enter 1 to hit or 0 to stick: \")\n",
    "action = int(action)\n",
    "    \n",
    "observation, reward, done, truncated, info = env.step(action)\n",
    "if done:\n",
    "    if reward > 0:\n",
    "        print(\"You won!\")\n",
    "    elif reward < 0:\n",
    "        print(\"You lost.\")\n",
    "    else:\n",
    "        print(\"It's a draw.\")\n",
    "    print(f\"Final hand: {observation[0]}, Dealer's hand: {observation[1]}\")\n",
    "else:\n",
    "    print(f\"New hand: {observation[0]}, Usable ace: {observation[2]}\")"
   ]
  },
  {
   "cell_type": "code",
   "execution_count": 14,
   "metadata": {},
   "outputs": [
    {
     "data": {
      "text/plain": [
       "array([[[ 7, 99, 36],\n",
       "        [ 7, 99, 36],\n",
       "        [ 7, 99, 36],\n",
       "        ...,\n",
       "        [ 7, 99, 36],\n",
       "        [ 7, 99, 36],\n",
       "        [ 7, 99, 36]],\n",
       "\n",
       "       [[ 7, 99, 36],\n",
       "        [ 7, 99, 36],\n",
       "        [ 7, 99, 36],\n",
       "        ...,\n",
       "        [ 7, 99, 36],\n",
       "        [ 7, 99, 36],\n",
       "        [ 7, 99, 36]],\n",
       "\n",
       "       [[ 7, 99, 36],\n",
       "        [ 7, 99, 36],\n",
       "        [ 7, 99, 36],\n",
       "        ...,\n",
       "        [ 7, 99, 36],\n",
       "        [ 7, 99, 36],\n",
       "        [ 7, 99, 36]],\n",
       "\n",
       "       ...,\n",
       "\n",
       "       [[ 7, 99, 36],\n",
       "        [ 7, 99, 36],\n",
       "        [ 7, 99, 36],\n",
       "        ...,\n",
       "        [ 7, 99, 36],\n",
       "        [ 7, 99, 36],\n",
       "        [ 7, 99, 36]],\n",
       "\n",
       "       [[ 7, 99, 36],\n",
       "        [ 7, 99, 36],\n",
       "        [ 7, 99, 36],\n",
       "        ...,\n",
       "        [ 7, 99, 36],\n",
       "        [ 7, 99, 36],\n",
       "        [ 7, 99, 36]],\n",
       "\n",
       "       [[ 7, 99, 36],\n",
       "        [ 7, 99, 36],\n",
       "        [ 7, 99, 36],\n",
       "        ...,\n",
       "        [ 7, 99, 36],\n",
       "        [ 7, 99, 36],\n",
       "        [ 7, 99, 36]]], dtype=uint8)"
      ]
     },
     "execution_count": 14,
     "metadata": {},
     "output_type": "execute_result"
    }
   ],
   "source": [
    "env.render()"
   ]
  },
  {
   "cell_type": "code",
   "execution_count": 2,
   "metadata": {},
   "outputs": [],
   "source": [
    "import matplotlib.pyplot as plt\n",
    "\n",
    "# Assuming `frame` is the np.ndarray returned by the environment's render method with mode=\"rgb_array\"\n",
    "# For example:\n",
    "# frame = env.render(mode=\"rgb_array\")\n",
    "\n",
    "def display_image_from_array(array):\n",
    "    \"\"\"\n",
    "    Displays an image given a numpy array of RGB values.\n",
    "\n",
    "    Parameters:\n",
    "    - array: np.ndarray. The numpy array representing the RGB values of the image.\n",
    "    \"\"\"\n",
    "    plt.figure(figsize=(5,5))\n",
    "    plt.imshow(array)\n",
    "    plt.axis('off')  # Turn off axis numbers and ticks\n",
    "    plt.show()\n"
   ]
  },
  {
   "cell_type": "code",
   "execution_count": 3,
   "metadata": {},
   "outputs": [
    {
     "ename": "ResetNeeded",
     "evalue": "Cannot call `env.render()` before calling `env.reset()`, if this is a intended action, set `disable_render_order_enforcing=True` on the OrderEnforcer wrapper.",
     "output_type": "error",
     "traceback": [
      "\u001b[0;31m---------------------------------------------------------------------------\u001b[0m",
      "\u001b[0;31mResetNeeded\u001b[0m                               Traceback (most recent call last)",
      "Cell \u001b[0;32mIn[3], line 2\u001b[0m\n\u001b[1;32m      1\u001b[0m \u001b[38;5;66;03m# Now, you can display the image using the function\u001b[39;00m\n\u001b[0;32m----> 2\u001b[0m display_image_from_array(\u001b[43menv\u001b[49m\u001b[38;5;241;43m.\u001b[39;49m\u001b[43mrender\u001b[49m\u001b[43m(\u001b[49m\u001b[43m)\u001b[49m)\n",
      "File \u001b[0;32m~/code/ms/guidance/env/lib/python3.8/site-packages/gymnasium/wrappers/order_enforcing.py:66\u001b[0m, in \u001b[0;36mOrderEnforcing.render\u001b[0;34m(self, *args, **kwargs)\u001b[0m\n\u001b[1;32m     64\u001b[0m \u001b[38;5;250m\u001b[39m\u001b[38;5;124;03m\"\"\"Renders the environment with `kwargs`.\"\"\"\u001b[39;00m\n\u001b[1;32m     65\u001b[0m \u001b[38;5;28;01mif\u001b[39;00m \u001b[38;5;129;01mnot\u001b[39;00m \u001b[38;5;28mself\u001b[39m\u001b[38;5;241m.\u001b[39m_disable_render_order_enforcing \u001b[38;5;129;01mand\u001b[39;00m \u001b[38;5;129;01mnot\u001b[39;00m \u001b[38;5;28mself\u001b[39m\u001b[38;5;241m.\u001b[39m_has_reset:\n\u001b[0;32m---> 66\u001b[0m     \u001b[38;5;28;01mraise\u001b[39;00m ResetNeeded(\n\u001b[1;32m     67\u001b[0m         \u001b[38;5;124m\"\u001b[39m\u001b[38;5;124mCannot call `env.render()` before calling `env.reset()`, if this is a intended action, \u001b[39m\u001b[38;5;124m\"\u001b[39m\n\u001b[1;32m     68\u001b[0m         \u001b[38;5;124m\"\u001b[39m\u001b[38;5;124mset `disable_render_order_enforcing=True` on the OrderEnforcer wrapper.\u001b[39m\u001b[38;5;124m\"\u001b[39m\n\u001b[1;32m     69\u001b[0m     )\n\u001b[1;32m     70\u001b[0m \u001b[38;5;28;01mreturn\u001b[39;00m \u001b[38;5;28mself\u001b[39m\u001b[38;5;241m.\u001b[39menv\u001b[38;5;241m.\u001b[39mrender(\u001b[38;5;241m*\u001b[39margs, \u001b[38;5;241m*\u001b[39m\u001b[38;5;241m*\u001b[39mkwargs)\n",
      "\u001b[0;31mResetNeeded\u001b[0m: Cannot call `env.render()` before calling `env.reset()`, if this is a intended action, set `disable_render_order_enforcing=True` on the OrderEnforcer wrapper."
     ]
    }
   ],
   "source": [
    "# Now, you can display the image using the function\n",
    "display_image_from_array(env.render())"
   ]
  },
  {
   "cell_type": "code",
   "execution_count": 4,
   "metadata": {},
   "outputs": [],
   "source": [
    "# from guidance import models, gen, any_char, any_char_but, regex, substring, substring_no_empty, with_temperature, select\n",
    "from guidance import models, select\n",
    "\n",
    "lm = models.LlamaCpp(\"/Users/nicholasking/code/models/mistral-7b-v0.1.Q8_0.gguf\", n_gpu_layers=-1, n_ctx=4096)"
   ]
  },
  {
   "cell_type": "code",
   "execution_count": 69,
   "metadata": {},
   "outputs": [
    {
     "data": {
      "text/html": [
       "<pre style='margin: 0px; padding: 0px; vertical-align: middle; padding-left: 8px; margin-left: -8px; border-radius: 0px; border-left: 1px solid rgba(127, 127, 127, 0.2); white-space: pre-wrap; font-family: ColfaxAI, Arial; font-size: 15px; line-height: 23px;'># Instructions\n",
       "You are playing a game of blackjack. Pick the best action to win the game.\n",
       "\n",
       "# Game Start\n",
       "</pre>"
      ],
      "text/plain": [
       "<IPython.core.display.HTML object>"
      ]
     },
     "metadata": {},
     "output_type": "display_data"
    }
   ],
   "source": [
    "blackjack_agent = lm + \"\"\"# Instructions\n",
    "You are playing a game of blackjack. Pick the best action to win the game.\n",
    "\n",
    "# Game Start\n",
    "\"\"\""
   ]
  },
  {
   "cell_type": "code",
   "execution_count": 70,
   "metadata": {},
   "outputs": [],
   "source": [
    "env = gym.make(\"Blackjack-v1\", sab=True, render_mode=\"rgb_array\")"
   ]
  },
  {
   "cell_type": "code",
   "execution_count": 71,
   "metadata": {},
   "outputs": [],
   "source": [
    "observation, info = env.reset()"
   ]
  },
  {
   "cell_type": "code",
   "execution_count": 72,
   "metadata": {},
   "outputs": [
    {
     "data": {
      "text/html": [
       "<pre style='margin: 0px; padding: 0px; vertical-align: middle; padding-left: 8px; margin-left: -8px; border-radius: 0px; border-left: 1px solid rgba(127, 127, 127, 0.2); white-space: pre-wrap; font-family: ColfaxAI, Arial; font-size: 15px; line-height: 23px;'># Instructions\n",
       "You are playing a game of blackjack. Pick the best action to win the game.\n",
       "\n",
       "# Game Start\n",
       "\n",
       "Your hand: 15, Dealer&#x27;s showing card: 1, Usable ace: 0</pre>"
      ],
      "text/plain": [
       "<IPython.core.display.HTML object>"
      ]
     },
     "metadata": {},
     "output_type": "display_data"
    },
    {
     "data": {
      "image/png": "[encoded data removed]",
      "text/plain": [
       "<Figure size 500x500 with 1 Axes>"
      ]
     },
     "metadata": {},
     "output_type": "display_data"
    }
   ],
   "source": [
    "blackjack_agent += f\"\\nYour hand: {observation[0]}, Dealer's showing card: {observation[1]}, Usable ace: {observation[2]}\"\n",
    "display_image_from_array(env.render())"
   ]
  },
  {
   "cell_type": "code",
   "execution_count": 73,
   "metadata": {},
   "outputs": [
    {
     "data": {
      "text/html": [
       "<pre style='margin: 0px; padding: 0px; vertical-align: middle; padding-left: 8px; margin-left: -8px; border-radius: 0px; border-left: 1px solid rgba(127, 127, 127, 0.2); white-space: pre-wrap; font-family: ColfaxAI, Arial; font-size: 15px; line-height: 23px;'># Instructions\n",
       "You are playing a game of blackjack. Pick the best action to win the game.\n",
       "\n",
       "# Game Start\n",
       "\n",
       "Your hand: 15, Dealer&#x27;s showing card: 1, Usable ace: 0\n",
       "Do you want to hit or stick?\n",
       "\n",
       "Your choice:<span style='background-color: rgba(0.0, 165.0, 0, 0.15); border-radius: 3px;' title='1.0'> hit</span></pre>"
      ],
      "text/plain": [
       "<IPython.core.display.HTML object>"
      ]
     },
     "metadata": {},
     "output_type": "display_data"
    }
   ],
   "source": [
    "blackjack_agent += f\"\"\"\n",
    "Do you want to hit or stick?\n",
    "\n",
    "Your choice: {select([\"hit\", \"stick\"], name=\"choice\")}\"\"\""
   ]
  },
  {
   "cell_type": "code",
   "execution_count": 66,
   "metadata": {},
   "outputs": [
    {
     "data": {
      "text/html": [
       "<pre style='margin: 0px; padding: 0px; vertical-align: middle; padding-left: 8px; margin-left: -8px; border-radius: 0px; border-left: 1px solid rgba(127, 127, 127, 0.2); white-space: pre-wrap; font-family: ColfaxAI, Arial; font-size: 15px; line-height: 23px;'># Instructions\n",
       "You are playing a game of blackjack. Pick the best action to win the game.\n",
       "\n",
       "# Game Start\n",
       "\n",
       "Your hand: 20, Dealer&#x27;s showing card: 3, Usable ace: 0\n",
       "Do you want to hit or stick?\n",
       "\n",
       "Your choice:<span style='background-color: rgba(0.0, 165.0, 0, 0.15); border-radius: 3px;' title='1.0'> stick</span>\n",
       "Final hand: 20, Dealer&#x27;s hand: 3\n",
       "You won!\n",
       "Your hand: 12, Dealer&#x27;s showing card: 2, Usable ace: 0\n",
       "Do you want to hit or stick?\n",
       "\n",
       "Your choice:<span style='background-color: rgba(0.0, 165.0, 0, 0.15); border-radius: 3px;' title='1.0'> hit</span>\n",
       "Your hand: 15, Dealer&#x27;s showing card: 2, Usable ace: 0\n",
       "Do you want to hit or stick?\n",
       "\n",
       "Your choice:<span style='background-color: rgba(0.0, 165.0, 0, 0.15); border-radius: 3px;' title='1.0'> stick</span>\n",
       "Final hand: 15, Dealer&#x27;s hand: 2\n",
       "You won!</pre>"
      ],
      "text/plain": [
       "<IPython.core.display.HTML object>"
      ]
     },
     "metadata": {},
     "output_type": "display_data"
    },
    {
     "data": {
      "image/png": "[encoded data removed]",
      "text/plain": [
       "<Figure size 500x500 with 1 Axes>"
      ]
     },
     "metadata": {},
     "output_type": "display_data"
    }
   ],
   "source": [
    "if blackjack_agent[\"choice\"] == \"hit\":\n",
    "    action = 1\n",
    "else:\n",
    "    action = 0\n",
    "\n",
    "observation, reward, done, truncated, info = env.step(action)\n",
    "if done:\n",
    "    blackjack_agent += f\"\\nFinal hand: {observation[0]}, Dealer's hand: {observation[1]}\\n\"\n",
    "    if reward > 0:\n",
    "        blackjack_agent += \"You won!\"\n",
    "    elif reward < 0:\n",
    "        blackjack_agent += \"You lost.\"\n",
    "    else:\n",
    "        blackjack_agent += \"It's a draw.\"\n",
    "else:\n",
    "    blackjack_agent += f\"\\nYour hand: {observation[0]}, Dealer's showing card: {observation[1]}, Usable ace: {observation[2]}\"\n",
    "display_image_from_array(env.render())"
   ]
  },
  {
   "cell_type": "code",
   "execution_count": 19,
   "metadata": {},
   "outputs": [
    {
     "name": "stderr",
     "output_type": "stream",
     "text": [
      "/Users/nicholasking/code/ms/guidance/env/lib/python3.8/site-packages/gymnasium/envs/registration.py:513: DeprecationWarning: \u001b[33mWARN: The environment Pong-v0 is out of date. You should consider upgrading to version `v4`.\u001b[0m\n",
      "  logger.deprecation(\n"
     ]
    }
   ],
   "source": [
    "pong_env = gym.make(\"Pong-v0\", render_mode=\"rgb_array\", obs_type=\"ram\")"
   ]
  },
  {
   "cell_type": "code",
   "execution_count": 20,
   "metadata": {},
   "outputs": [],
   "source": [
    "observation, info = pong_env.reset()"
   ]
  },
  {
   "cell_type": "code",
   "execution_count": 22,
   "metadata": {},
   "outputs": [
    {
     "name": "stdout",
     "output_type": "stream",
     "text": [
      "192\n",
      "0\n",
      "0\n",
      "0\n",
      "110\n",
      "38\n",
      "0\n",
      "7\n",
      "71\n",
      "1\n",
      "60\n",
      "59\n",
      "0\n",
      "0\n",
      "0\n",
      "62\n",
      "255\n",
      "0\n",
      "255\n",
      "253\n",
      "0\n",
      "22\n",
      "0\n",
      "24\n",
      "128\n",
      "32\n",
      "1\n",
      "86\n",
      "247\n",
      "86\n",
      "247\n",
      "86\n",
      "247\n",
      "134\n",
      "243\n",
      "245\n",
      "243\n",
      "240\n",
      "240\n",
      "242\n",
      "242\n",
      "32\n",
      "32\n",
      "64\n",
      "64\n",
      "64\n",
      "188\n",
      "65\n",
      "189\n",
      "0\n",
      "22\n",
      "109\n",
      "37\n",
      "37\n",
      "60\n",
      "0\n",
      "0\n",
      "0\n",
      "0\n",
      "109\n",
      "109\n",
      "37\n",
      "37\n",
      "192\n",
      "192\n",
      "192\n",
      "192\n",
      "1\n",
      "192\n",
      "202\n",
      "247\n",
      "202\n",
      "247\n",
      "202\n",
      "247\n",
      "202\n",
      "247\n",
      "0\n",
      "0\n",
      "0\n",
      "0\n",
      "0\n",
      "0\n",
      "0\n",
      "0\n",
      "0\n",
      "0\n",
      "0\n",
      "0\n",
      "0\n",
      "0\n",
      "0\n",
      "0\n",
      "0\n",
      "0\n",
      "0\n",
      "0\n",
      "0\n",
      "0\n",
      "0\n",
      "0\n",
      "0\n",
      "0\n",
      "0\n",
      "0\n",
      "0\n",
      "0\n",
      "0\n",
      "0\n",
      "0\n",
      "0\n",
      "0\n",
      "0\n",
      "0\n",
      "0\n",
      "0\n",
      "0\n",
      "0\n",
      "0\n",
      "0\n",
      "0\n",
      "0\n",
      "0\n",
      "54\n",
      "236\n",
      "242\n",
      "121\n",
      "240\n"
     ]
    },
    {
     "ename": "",
     "evalue": "",
     "output_type": "error",
     "traceback": [
      "\u001b[1;31mThe Kernel crashed while executing code in the current cell or a previous cell. \n",
      "\u001b[1;31mPlease review the code in the cell(s) to identify a possible cause of the failure. \n",
      "\u001b[1;31mClick <a href='https://aka.ms/vscodeJupyterKernelCrash'>here</a> for more info. \n",
      "\u001b[1;31mView Jupyter <a href='command:jupyter.viewOutput'>log</a> for further details."
     ]
    }
   ],
   "source": [
    "for row in observation:\n",
    "    print(row)"
   ]
  },
  {
   "cell_type": "code",
   "execution_count": 11,
   "metadata": {},
   "outputs": [
    {
     "name": "stderr",
     "output_type": "stream",
     "text": [
      "/Users/nicholasking/code/ms/guidance/env/lib/python3.8/site-packages/gymnasium/utils/passive_env_checker.py:335: UserWarning: \u001b[33mWARN: No render fps was declared in the environment (env.metadata['render_fps'] is None or not defined), rendering may occur at inconsistent fps.\u001b[0m\n",
      "  logger.warn(\n"
     ]
    },
    {
     "data": {
      "image/png": "[encoded data removed]",
      "text/plain": [
       "<Figure size 500x500 with 1 Axes>"
      ]
     },
     "metadata": {},
     "output_type": "display_data"
    }
   ],
   "source": [
    "display_image_from_array(pong_env.render())"
   ]
  },
  {
   "cell_type": "code",
   "execution_count": null,
   "metadata": {},
   "outputs": [],
   "source": []
  }
 ],
 "metadata": {
  "kernelspec": {
   "display_name": "env",
   "language": "python",
   "name": "python3"
  },
  "language_info": {
   "codemirror_mode": {
    "name": "ipython",
    "version": 3
   },
   "file_extension": ".py",
   "mimetype": "text/x-python",
   "name": "python",
   "nbconvert_exporter": "python",
   "pygments_lexer": "ipython3",
   "version": "3.8.17"
  }
 },
 "nbformat": 4,
 "nbformat_minor": 2
}
