{
 "cells": [
  {
   "cell_type": "code",
   "execution_count": 1,
   "metadata": {},
   "outputs": [],
   "source": [
    "from guidance import models, select\n",
    "from pypokerengine.api.game import setup_config, start_poker\n",
    "from pypokerengine.players import BasePokerPlayer"
   ]
  },
  {
   "cell_type": "code",
   "execution_count": 4,
   "metadata": {},
   "outputs": [
    {
     "data": {
      "text/html": [
       "<pre style='margin: 0px; padding: 0px; vertical-align: middle; padding-left: 8px; margin-left: -8px; border-radius: 0px; border-left: 1px solid rgba(127, 127, 127, 0.2); white-space: pre-wrap; font-family: ColfaxAI, Arial; font-size: 15px; line-height: 23px;'># Instructions\n",
       "\n",
       "You are playing a game of poker. Pick the best action to win the game.\n",
       "\n",
       "# Game State\n",
       "\n",
       "Your hole cards: [&#x27;S8&#x27;, &#x27;D9&#x27;]\n",
       "Community cards: []\n",
       "Pot size: 15\n",
       "Your stack: 100\n",
       "Opponent&#x27;s stack: 95\n",
       "Available actions: [{&#x27;action&#x27;: &#x27;fold&#x27;, &#x27;amount&#x27;: 0}, {&#x27;action&#x27;: &#x27;call&#x27;, &#x27;amount&#x27;: 10}, {&#x27;action&#x27;: &#x27;raise&#x27;, &#x27;amount&#x27;: {&#x27;min&#x27;: 15, &#x27;max&#x27;: 100}}]\n",
       "\n",
       "What action do you want to take?\n",
       "\n",
       "Your choice:<span style='background-color: rgba(0.0, 165.0, 0, 0.15); border-radius: 3px;' title='1.0'> raise</span>\n",
       "</pre>"
      ],
      "text/plain": [
       "<IPython.core.display.HTML object>"
      ]
     },
     "metadata": {},
     "output_type": "display_data"
    },
    {
     "name": "stdout",
     "output_type": "stream",
     "text": [
      "\"Guidance2\" declared \"raise:10\"\n",
      "\"['Guidance3']\" won the round 10 (stack = {'Guidance1': 100, 'Guidance2': 95, 'Guidance3': 105})\n"
     ]
    }
   ],
   "source": [
    "class GuidancePokerPlayer(BasePokerPlayer):\n",
    "    def __init__(self, lm, name):\n",
    "        self.lm = lm\n",
    "        self.name = name\n",
    "        self.poker_agent = self.lm + f\"\"\"# Instructions\n",
    "\n",
    "You are playing a game of Texas Hold'em poker against other opponents. Pick the best action to win the game.\n",
    "\n",
    "# Game State\n",
    "\"\"\"\n",
    "\n",
    "    def declare_action(self, valid_actions, hole_card, round_state):\n",
    "        self.poker_agent += f\"\"\"## Round {round_state['round_count']}\n",
    "\n",
    "Your hole cards: {hole_card}\n",
    "Community cards: {round_state['community_card']}\n",
    "Pot size: {round_state['pot']['main']['amount']}\n",
    "Your stack: {self.stack}\n",
    "Opponents' stacks: {[p['stack'] for p in round_state['seats'] if p['uuid'] != self.uuid]}\n",
    "Available actions: {valid_actions}\n",
    "\n",
    "# Opponents' past actions\n",
    "\"\"\"\n",
    "        for seat in round_state['seats']:\n",
    "            if seat['uuid'] != self.uuid:\n",
    "                self.poker_agent += f\"{seat['name']}: {seat['action_histories']}\\n\"\n",
    "\n",
    "        self.poker_agent += f\"\"\"\n",
    "What action do you want to take?\n",
    "\n",
    "Your choice: {select([a['action'] for a in valid_actions], name=\"choice\")}\n",
    "\"\"\"\n",
    "\n",
    "        action = self.poker_agent[\"choice\"]\n",
    "        amount = valid_actions[0]['amount'] if action == 'fold' else valid_actions[1]['amount']\n",
    "        return action, amount\n",
    "\n",
    "    def receive_game_start_message(self, game_info):\n",
    "        self.uuid = game_info['seats'][game_info['player_num']]['uuid']\n",
    "        self.stack = game_info['seats'][game_info['player_num']]['stack']\n",
    "\n",
    "    def receive_round_start_message(self, round_count, hole_card, seats):\n",
    "        pass\n",
    "\n",
    "    def receive_street_start_message(self, street, round_state):\n",
    "        pass\n",
    "\n",
    "    def receive_game_update_message(self, action, round_state):\n",
    "        pass\n",
    "\n",
    "    def receive_round_result_message(self, winners, hand_info, round_state):\n",
    "        pass\n",
    "\n",
    "lm = models.LlamaCpp(\"/Users/nicholasking/code/models/mistral-7b-v0.1.Q8_0.gguf\", n_gpu_layers=-1, n_ctx=4096)\n",
    "\n",
    "config = setup_config(max_round=10, initial_stack=100, small_blind_amount=5)\n",
    "config.register_player(name=\"Mistral1\", algorithm=GuidancePokerPlayer(lm))\n",
    "config.register_player(name=\"Mistral2\", algorithm=GuidancePokerPlayer(lm))\n",
    "config.register_player(name=\"Mistral3\", algorithm=GuidancePokerPlayer(lm))\n",
    "game_result = start_poker(config, verbose=1)"
   ]
  },
  {
   "cell_type": "code",
   "execution_count": 5,
   "metadata": {},
   "outputs": [
    {
     "data": {
      "text/plain": [
       "{'rule': {'initial_stack': 100,\n",
       "  'max_round': 10,\n",
       "  'small_blind_amount': 5,\n",
       "  'ante': 0,\n",
       "  'blind_structure': {}},\n",
       " 'players': [{'name': 'Guidance1',\n",
       "   'uuid': 'cyfihrreshpyienqhvfcob',\n",
       "   'stack': 100,\n",
       "   'state': 'participating'},\n",
       "  {'name': 'Guidance2',\n",
       "   'uuid': 'tktopnodfgdejpiushhgzj',\n",
       "   'stack': 95,\n",
       "   'state': 'participating'},\n",
       "  {'name': 'Guidance3',\n",
       "   'uuid': 'pdoqoijqizacpbcocaqqzx',\n",
       "   'stack': 105,\n",
       "   'state': 'participating'}]}"
      ]
     },
     "execution_count": 5,
     "metadata": {},
     "output_type": "execute_result"
    }
   ],
   "source": [
    "game_result"
   ]
  },
  {
   "cell_type": "code",
   "execution_count": null,
   "metadata": {},
   "outputs": [],
   "source": []
  }
 ],
 "metadata": {
  "kernelspec": {
   "display_name": "env",
   "language": "python",
   "name": "python3"
  },
  "language_info": {
   "codemirror_mode": {
    "name": "ipython",
    "version": 3
   },
   "file_extension": ".py",
   "mimetype": "text/x-python",
   "name": "python",
   "nbconvert_exporter": "python",
   "pygments_lexer": "ipython3",
   "version": "3.8.17"
  }
 },
 "nbformat": 4,
 "nbformat_minor": 2
}
