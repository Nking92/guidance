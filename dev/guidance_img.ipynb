{
 "cells": [
  {
   "cell_type": "code",
   "execution_count": 1,
   "metadata": {},
   "outputs": [],
   "source": [
    "from guidance import models, gen, select, image, user, assistant, system, regex\n",
    "from guidance._grammar import string\n",
    "PHI_3_VISION_MODEL = \"microsoft/Phi-3-vision-128k-instruct\""
   ]
  },
  {
   "cell_type": "code",
   "execution_count": 2,
   "metadata": {},
   "outputs": [
    {
     "name": "stderr",
     "output_type": "stream",
     "text": [
      "/home/nicholasking/code/guidance/env/lib/python3.10/site-packages/transformers/models/auto/image_processing_auto.py:517: FutureWarning: The image_processor_class argument is deprecated and will be removed in v4.42. Please use `slow_image_processor_class`, or `fast_image_processor_class` instead\n",
      "  warnings.warn(\n"
     ]
    },
    {
     "data": {
      "application/vnd.jupyter.widget-view+json": {
       "model_id": "3d5ddcd8eed842ac91a56085aae7a971",
       "version_major": 2,
       "version_minor": 0
      },
      "text/plain": [
       "Loading checkpoint shards:   0%|          | 0/2 [00:00<?, ?it/s]"
      ]
     },
     "metadata": {},
     "output_type": "display_data"
    }
   ],
   "source": [
    "\n",
    "model_kwargs = {\n",
    "    # \"_attn_implementation\": \"eager\", # Uncomment this line if flash attention is not working\n",
    "    \"trust_remote_code\": True,\n",
    "    \"torch_dtype\": \"float16\",\n",
    "    \"device_map\": \"auto\",\n",
    "}\n",
    "phi3v = models.Transformers(\n",
    "    model=PHI_3_VISION_MODEL, **model_kwargs\n",
    ")"
   ]
  },
  {
   "cell_type": "code",
   "execution_count": 2,
   "metadata": {},
   "outputs": [
    {
     "name": "stderr",
     "output_type": "stream",
     "text": [
      "/home/nicholasking/code/guidance/guidance/models/transformers/_transformers_tokenizer.py:131: UserWarning: Could not build_byte tokens from the tokenizer by encoding token strings: Round-trip encoding of tokens [!] failed! Got [128000, 0]\n",
      "  warnings.warn(\n"
     ]
    },
    {
     "data": {
      "application/vnd.jupyter.widget-view+json": {
       "model_id": "79d5d747209241f68623cad2bb78f1e6",
       "version_major": 2,
       "version_minor": 0
      },
      "text/plain": [
       "Loading checkpoint shards:   0%|          | 0/5 [00:00<?, ?it/s]"
      ]
     },
     "metadata": {},
     "output_type": "display_data"
    },
    {
     "name": "stderr",
     "output_type": "stream",
     "text": [
      "The model weights are not tied. Please use the `tie_weights` method before using the `infer_auto_device` function.\n"
     ]
    },
    {
     "data": {
      "application/vnd.jupyter.widget-view+json": {
       "model_id": "7eb90fe996d2435a89166903e2204bc4",
       "version_major": 2,
       "version_minor": 0
      },
      "text/plain": [
       "Loading checkpoint shards:   0%|          | 0/5 [00:00<?, ?it/s]"
      ]
     },
     "metadata": {},
     "output_type": "display_data"
    }
   ],
   "source": [
    "import requests\n",
    "import torch\n",
    "from PIL import Image\n",
    "from transformers import MllamaForConditionalGeneration, AutoProcessor\n",
    "import os\n",
    "from huggingface_hub import login\n",
    "\n",
    "# Retrieve token from environment variable\n",
    "# login(\"\")\n",
    "\n",
    "\n",
    "LLAMA_VISION_ID = \"meta-llama/Llama-3.2-11B-Vision\"\n",
    "model_id = LLAMA_VISION_ID\n",
    "model_kwargs = {\n",
    "    \"torch_dtype\": \"bfloat16\",\n",
    "    \"device_map\": \"auto\",\n",
    "}\n",
    "llamav = models.Transformers(model=LLAMA_VISION_ID, **model_kwargs)\n",
    "\n",
    "model = MllamaForConditionalGeneration.from_pretrained(\n",
    "    model_id,\n",
    "    torch_dtype=torch.bfloat16,\n",
    "    device_map=\"auto\",\n",
    ")\n",
    "processor = AutoProcessor.from_pretrained(model_id)"
   ]
  },
  {
   "cell_type": "code",
   "execution_count": 16,
   "metadata": {},
   "outputs": [
    {
     "name": "stdout",
     "output_type": "stream",
     "text": [
      "tensor([[128000, 128000, 128256,   2746,    358,   1047,    311,   3350,    264,\n",
      "           6520,  39342,    369,    420,    832]], device='cuda:0')\n",
      "<|begin_of_text|><|begin_of_text|><|image|>If I had to write a haiku for this one, it would be:.\\nPeter Rabbit is a rabbit.\\nHe lives in a hole in the ground.\\nHe's a very naughty rabbit\n",
      "tensor([[128000, 128256,   2746,    358,   1047,    311,   3350,    264,   6520,\n",
      "          39342,    369,    420,    832]], device='cuda:0')\n",
      "<|begin_of_text|><|image|>If I had to write a haiku for this one, it would be:.\\nPeter Rabbit is a.\\nCute little bunny.\\nWho loves to eat carrots.\\nI'm not a\n",
      "tensor([[128000,  19182,  37808,   1148,    596,    420,     30,    220, 128256,\n",
      "           2746,    358,   1047,    311,   3350,    264,   6520,  39342,    369,\n",
      "            420,    832]], device='cuda:0')\n",
      "<|begin_of_text|>Hey bud what's this? <|image|>If I had to write a haiku for this one, it would be:.\\nBunny in a blue jacket.\\nHopping down a country lane.\\nWith a basket of eggs.\\n\n"
     ]
    }
   ],
   "source": [
    "url = \"https://huggingface.co/datasets/huggingface/documentation-images/resolve/0052a70beed5bf71b92610a43a52df6d286cd5f3/diffusers/rabbit.jpg\"\n",
    "image = Image.open(requests.get(url, stream=True).raw)\n",
    "\n",
    "prompt = \"<|begin_of_text|><|image|>If I had to write a haiku for this one\"\n",
    "inputs = processor(image, prompt, return_tensors=\"pt\").to(model.device)\n",
    "\n",
    "output = model.generate(**inputs, max_new_tokens=30)\n",
    "print(inputs[\"input_ids\"])\n",
    "print(processor.decode(output[0]))\n",
    "\n",
    "inputs = processor(image, prompt, return_tensors=\"pt\", add_special_tokens=False).to(model.device)\n",
    "\n",
    "output = model.generate(**inputs, max_new_tokens=30)\n",
    "print(inputs[\"input_ids\"])\n",
    "print(processor.decode(output[0]))\n",
    "\n",
    "prompt = \"<|begin_of_text|>Hey bud what's this? <|image|>If I had to write a haiku for this one\"\n",
    "inputs = processor(image, prompt, return_tensors=\"pt\", add_special_tokens=False).to(model.device)\n",
    "\n",
    "output = model.generate(**inputs, max_new_tokens=30)\n",
    "print(inputs[\"input_ids\"])\n",
    "print(processor.decode(output[0]))\n"
   ]
  },
  {
   "cell_type": "code",
   "execution_count": 4,
   "metadata": {},
   "outputs": [
    {
     "name": "stdout",
     "output_type": "stream",
     "text": [
      "<|begin_of_text|><|begin_of_text|>If I had to write a haiku for this one, it would be:\n",
      "Golden light descends\n",
      "Golden light ascends again\n",
      "Golden light remains\n",
      "I love the way the light dances through the trees\n",
      "{'input_ids': tensor([[128000, 128000,   2746,    358,   1047,    311,   3350,    264,   6520,\n",
      "          39342,    369,    420,    832]], device='cuda:0'), 'attention_mask': tensor([[1, 1, 1, 1, 1, 1, 1, 1, 1, 1, 1, 1, 1]], device='cuda:0')}\n",
      "[128000, 128000, 2746, 358, 1047, 311, 3350, 264, 6520, 39342, 369, 420, 832]\n"
     ]
    }
   ],
   "source": [
    "prompt = \"<|begin_of_text|>If I had to write a haiku for this one\"\n",
    "image = None\n",
    "inputs = processor(image, prompt, return_tensors=\"pt\").to(model.device)\n",
    "\n",
    "output = model.generate(**inputs, max_new_tokens=30)\n",
    "print(processor.decode(output[0]))\n",
    "print(inputs)\n",
    "print(inputs[\"input_ids\"][0].tolist())"
   ]
  },
  {
   "cell_type": "code",
   "execution_count": 12,
   "metadata": {},
   "outputs": [
    {
     "name": "stdout",
     "output_type": "stream",
     "text": [
      "<|begin_of_text|><|begin_of_text|>If I had to write a haiku for this one, it would be:\n",
      "Golden light descends\n",
      "Golden light ascends again\n",
      "Golden light remains\n",
      "I love the way the light dances through the trees\n",
      "{'input_ids': tensor([[128000, 128000,   2746,    358,   1047,    311,   3350,    264,   6520,\n",
      "          39342,    369,    420,    832]], device='cuda:0'), 'attention_mask': tensor([[1, 1, 1, 1, 1, 1, 1, 1, 1, 1, 1, 1, 1]], device='cuda:0')}\n"
     ]
    }
   ],
   "source": [
    "prompt = \"If I had to write a haiku for this one\"\n",
    "image = None\n",
    "inputs = processor(image, prompt, return_tensors=\"pt\").to(model.device)\n",
    "\n",
    "output = model.generate(**inputs, max_new_tokens=30)\n",
    "print(processor.decode(output[0]))\n",
    "print(inputs)"
   ]
  },
  {
   "cell_type": "code",
   "execution_count": 8,
   "metadata": {},
   "outputs": [
    {
     "name": "stdout",
     "output_type": "stream",
     "text": [
      "<|begin_of_text|><|image|><|begin_of_text|>If I had to write a haiku for this one, it would be:.\\nPeter Rabbit is a rabbit.\\nHe lives in a hole in the ground.\\nHe's a bit of a\n",
      "{'input_ids': tensor([[128000, 128256, 128000,   2746,    358,   1047,    311,   3350,    264,\n",
      "           6520,  39342,    369,    420,    832]], device='cuda:0'), 'attention_mask': tensor([[1, 1, 1, 1, 1, 1, 1, 1, 1, 1, 1, 1, 1, 1]], device='cuda:0'), 'pixel_values': tensor([[[[[[ 1.5508,  1.4778,  1.4048,  ...,  0.8792,  0.8792,  0.8792],\n",
      "            [ 1.5216,  1.4632,  1.3902,  ...,  0.7479,  0.7479,  0.7479],\n",
      "            [ 1.5070,  1.4340,  1.3610,  ...,  0.5727,  0.5873,  0.6311],\n",
      "            ...,\n",
      "            [ 0.3683,  0.4267,  0.4851,  ...,  1.5362,  1.5508,  1.5654],\n",
      "            [ 0.3391,  0.3975,  0.4705,  ...,  1.5654,  1.5654,  1.5508],\n",
      "            [ 0.3391,  0.4121,  0.4851,  ...,  1.5800,  1.5800,  1.5654]],\n",
      "\n",
      "           [[ 1.6697,  1.6096,  1.5646,  ...,  1.0544,  1.0243,  1.0844],\n",
      "            [ 1.6547,  1.5946,  1.5496,  ...,  0.9043,  0.8743,  0.9343],\n",
      "            [ 1.6397,  1.5646,  1.5196,  ...,  0.7092,  0.6942,  0.7692],\n",
      "            ...,\n",
      "            [ 0.4691,  0.5291,  0.5891,  ...,  1.2194,  1.2194,  1.2194],\n",
      "            [ 0.4390,  0.4991,  0.5741,  ...,  1.1894,  1.1894,  1.2044],\n",
      "            [ 0.4540,  0.5141,  0.5741,  ...,  1.1744,  1.1894,  1.1894]],\n",
      "\n",
      "           [[ 1.7477,  1.7193,  1.6909,  ...,  0.8803,  0.9088,  0.9941],\n",
      "            [ 1.7193,  1.6909,  1.6766,  ...,  0.5390,  0.5532,  0.6670],\n",
      "            [ 1.7051,  1.6624,  1.6482,  ...,  0.0840,  0.0840,  0.2262],\n",
      "            ...,\n",
      "            [-0.7692, -0.6981, -0.6128,  ...,  0.8945,  0.8945,  0.8803],\n",
      "            [-0.7977, -0.7123, -0.6270,  ...,  0.9514,  0.9088,  0.8661],\n",
      "            [-0.7977, -0.7266, -0.6270,  ...,  0.9656,  0.9088,  0.8803]]],\n",
      "\n",
      "\n",
      "          [[[ 0.8501,  0.8647,  0.8792,  ..., -1.7923, -1.7923, -1.7923],\n",
      "            [ 0.7479,  0.7917,  0.8063,  ..., -1.7923, -1.7923, -1.7923],\n",
      "            [ 0.6895,  0.7625,  0.7771,  ..., -1.7923, -1.7923, -1.7923],\n",
      "            ...,\n",
      "            [ 1.5800,  1.5216,  1.4048,  ..., -1.7923, -1.7923, -1.7923],\n",
      "            [ 1.5654,  1.4924,  1.3902,  ..., -1.7923, -1.7923, -1.7923],\n",
      "            [ 1.5654,  1.4924,  1.3902,  ..., -1.7923, -1.7923, -1.7923]],\n",
      "\n",
      "           [[ 1.1444,  1.1294,  1.0994,  ..., -1.7521, -1.7521, -1.7521],\n",
      "            [ 1.0093,  1.0093,  0.9793,  ..., -1.7521, -1.7521, -1.7521],\n",
      "            [ 0.8743,  0.9043,  0.9043,  ..., -1.7521, -1.7521, -1.7521],\n",
      "            ...,\n",
      "            [ 1.2044,  1.1444,  1.0243,  ..., -1.7521, -1.7521, -1.7521],\n",
      "            [ 1.1894,  1.1144,  1.0093,  ..., -1.7521, -1.7521, -1.7521],\n",
      "            [ 1.1894,  1.1144,  1.0093,  ..., -1.7521, -1.7521, -1.7521]],\n",
      "\n",
      "           [[ 1.0510,  1.0936,  1.0652,  ..., -1.4802, -1.4802, -1.4802],\n",
      "            [ 0.7808,  0.8519,  0.8377,  ..., -1.4802, -1.4802, -1.4802],\n",
      "            [ 0.3968,  0.4964,  0.4964,  ..., -1.4802, -1.4802, -1.4802],\n",
      "            ...,\n",
      "            [ 0.8234,  0.7666,  0.6528,  ..., -1.4802, -1.4802, -1.4802],\n",
      "            [ 0.8092,  0.7381,  0.6386,  ..., -1.4802, -1.4802, -1.4802],\n",
      "            [ 0.8092,  0.7523,  0.6528,  ..., -1.4802, -1.4802, -1.4802]]],\n",
      "\n",
      "\n",
      "          [[[ 0.4121,  0.4705,  0.5435,  ...,  1.4778,  1.5508,  1.5362],\n",
      "            [ 0.4559,  0.5143,  0.5873,  ...,  1.3610,  1.4924,  1.5070],\n",
      "            [ 0.4851,  0.5435,  0.6165,  ...,  1.1566,  1.4048,  1.4340],\n",
      "            ...,\n",
      "            [-1.5295, -1.5587, -1.5879,  ..., -0.3470, -0.3908, -0.3324],\n",
      "            [-1.5149, -1.5295, -1.5587,  ..., -0.3616, -0.4930, -0.4492],\n",
      "            [-1.4857, -1.5003, -1.5295,  ..., -0.1426, -0.5514, -0.5368]],\n",
      "\n",
      "           [[ 0.5441,  0.5891,  0.6191,  ...,  1.2044,  1.1894,  1.1744],\n",
      "            [ 0.5891,  0.6341,  0.6491,  ...,  1.1744,  1.1744,  1.1444],\n",
      "            [ 0.6191,  0.6642,  0.6792,  ...,  1.0544,  1.1144,  1.0844],\n",
      "            ...,\n",
      "            [-1.5270, -1.5570, -1.5870,  ..., -0.6115, -0.6565, -0.5815],\n",
      "            [-1.4970, -1.5270, -1.5570,  ..., -0.6265, -0.7616, -0.7016],\n",
      "            [-1.4820, -1.4970, -1.5270,  ..., -0.4014, -0.8216, -0.7916]],\n",
      "\n",
      "           [[-0.8119, -0.7266, -0.6270,  ...,  0.9799,  0.8803,  0.8661],\n",
      "            [-0.7834, -0.6839, -0.5986,  ...,  0.9941,  0.8803,  0.8377],\n",
      "            [-0.7550, -0.6555, -0.5701,  ...,  0.9514,  0.8661,  0.7808],\n",
      "            ...,\n",
      "            [-1.4091, -1.4233, -1.4233,  ..., -0.6555, -0.6981, -0.6128],\n",
      "            [-1.3949, -1.3949, -1.3949,  ..., -0.6697, -0.7977, -0.7123],\n",
      "            [-1.3665, -1.3665, -1.3665,  ..., -0.4564, -0.8545, -0.7977]]],\n",
      "\n",
      "\n",
      "          [[[ 1.5070,  1.4778,  1.3902,  ..., -1.7923, -1.7923, -1.7923],\n",
      "            [ 1.4486,  1.4340,  1.4048,  ..., -1.7923, -1.7923, -1.7923],\n",
      "            [ 1.4048,  1.4048,  1.4194,  ..., -1.7923, -1.7923, -1.7923],\n",
      "            ...,\n",
      "            [-0.2740, -0.2156, -0.2010,  ..., -1.7923, -1.7923, -1.7923],\n",
      "            [-0.3908, -0.3324, -0.2740,  ..., -1.7923, -1.7923, -1.7923],\n",
      "            [-0.4930, -0.4346, -0.3616,  ..., -1.7923, -1.7923, -1.7923]],\n",
      "\n",
      "           [[ 1.1594,  1.1294,  1.0544,  ..., -1.7521, -1.7521, -1.7521],\n",
      "            [ 1.1144,  1.0994,  1.0694,  ..., -1.7521, -1.7521, -1.7521],\n",
      "            [ 1.0694,  1.0694,  1.0844,  ..., -1.7521, -1.7521, -1.7521],\n",
      "            ...,\n",
      "            [-0.4914, -0.4164, -0.4014,  ..., -1.7521, -1.7521, -1.7521],\n",
      "            [-0.5965, -0.5365, -0.4764,  ..., -1.7521, -1.7521, -1.7521],\n",
      "            [-0.7016, -0.6415, -0.5665,  ..., -1.7521, -1.7521, -1.7521]],\n",
      "\n",
      "           [[ 0.8377,  0.7950,  0.7239,  ..., -1.4802, -1.4802, -1.4802],\n",
      "            [ 0.7950,  0.7808,  0.7523,  ..., -1.4802, -1.4802, -1.4802],\n",
      "            [ 0.7523,  0.7523,  0.7666,  ..., -1.4802, -1.4802, -1.4802],\n",
      "            ...,\n",
      "            [-0.4848, -0.4279, -0.4137,  ..., -1.4802, -1.4802, -1.4802],\n",
      "            [-0.5986, -0.5417, -0.4848,  ..., -1.4802, -1.4802, -1.4802],\n",
      "            [-0.6981, -0.6412, -0.5701,  ..., -1.4802, -1.4802, -1.4802]]]]]],\n",
      "       device='cuda:0'), 'aspect_ratio_ids': tensor([[6]], device='cuda:0'), 'aspect_ratio_mask': tensor([[[1, 1, 1, 1]]], device='cuda:0'), 'cross_attention_mask': tensor([[[[0, 0, 0, 0]],\n",
      "\n",
      "         [[1, 1, 1, 1]],\n",
      "\n",
      "         [[1, 1, 1, 1]],\n",
      "\n",
      "         [[1, 1, 1, 1]],\n",
      "\n",
      "         [[1, 1, 1, 1]],\n",
      "\n",
      "         [[1, 1, 1, 1]],\n",
      "\n",
      "         [[1, 1, 1, 1]],\n",
      "\n",
      "         [[1, 1, 1, 1]],\n",
      "\n",
      "         [[1, 1, 1, 1]],\n",
      "\n",
      "         [[1, 1, 1, 1]],\n",
      "\n",
      "         [[1, 1, 1, 1]],\n",
      "\n",
      "         [[1, 1, 1, 1]],\n",
      "\n",
      "         [[1, 1, 1, 1]],\n",
      "\n",
      "         [[1, 1, 1, 1]]]], device='cuda:0')}\n"
     ]
    }
   ],
   "source": [
    "url = \"https://huggingface.co/datasets/huggingface/documentation-images/resolve/0052a70beed5bf71b92610a43a52df6d286cd5f3/diffusers/rabbit.jpg\"\n",
    "image = Image.open(requests.get(url, stream=True).raw)\n",
    "\n",
    "prompt = \"<|image|><|begin_of_text|>If I had to write a haiku for this one\"\n",
    "inputs = processor(image, prompt, return_tensors=\"pt\").to(model.device)\n",
    "\n",
    "output = model.generate(**inputs, max_new_tokens=30)\n",
    "print(processor.decode(output[0]))\n",
    "print(inputs)"
   ]
  },
  {
   "cell_type": "code",
   "execution_count": null,
   "metadata": {},
   "outputs": [],
   "source": [
    "url = \"https://huggingface.co/datasets/huggingface/documentation-images/resolve/0052a70beed5bf71b92610a43a52df6d286cd5f3/diffusers/rabbit.jpg\"\n",
    "image = Image.open(requests.get(url, stream=True).raw)\n",
    "\n",
    "prompt = \"<|image|>If I had to write a haiku for this one\"\n",
    "inputs = processor(image, prompt, return_tensors=\"pt\").to(model.device)\n",
    "\n",
    "output = model.generate(**inputs, max_new_tokens=30)\n",
    "print(processor.decode(output[0]))\n",
    "print(inputs)"
   ]
  },
  {
   "cell_type": "code",
   "execution_count": 3,
   "metadata": {},
   "outputs": [
    {
     "data": {
      "text/html": [
       "<pre style='margin: 0px; padding: 0px; vertical-align: middle; padding-left: 8px; margin-left: -8px; border-radius: 0px; border-left: 1px solid rgba(127, 127, 127, 0.2); white-space: pre-wrap; font-family: ColfaxAI, Arial; font-size: 15px; line-height: 23px;'>Hello<span style='background-color: rgba(165.0, 0.0, 0, 0.15); border-radius: 3px;' title='0.0'>,</span><span style='background-color: rgba(165.0, 0.0, 0, 0.15); border-radius: 3px;' title='0.0'> I</span><span style='background-color: rgba(165.0, 0.0, 0, 0.15); border-radius: 3px;' title='0.0'> am</span><span style='background-color: rgba(165.0, 0.0, 0, 0.15); border-radius: 3px;' title='0.0'> a</span><span style='background-color: rgba(165.0, 0.0, 0, 0.15); border-radius: 3px;' title='0.0'> </span><span style='background-color: rgba(165.0, 0.0, 0, 0.15); border-radius: 3px;' title='0.0'>30</span><span style='background-color: rgba(165.0, 0.0, 0, 0.15); border-radius: 3px;' title='0.0'>-year</span><span style='background-color: rgba(165.0, 0.0, 0, 0.15); border-radius: 3px;' title='0.0'>-old</span><span style='background-color: rgba(165.0, 0.0, 0, 0.15); border-radius: 3px;' title='0.0'> woman</span><span style='background-color: rgba(165.0, 0.0, 0, 0.15); border-radius: 3px;' title='0.0'> who</span><span style='background-color: rgba(165.0, 0.0, 0, 0.15); border-radius: 3px;' title='0.0'> has</span><span style='background-color: rgba(165.0, 0.0, 0, 0.15); border-radius: 3px;' title='0.0'> been</span><span style='background-color: rgba(165.0, 0.0, 0, 0.15); border-radius: 3px;' title='0.0'> experiencing</span><span style='background-color: rgba(165.0, 0.0, 0, 0.15); border-radius: 3px;' title='0.0'> symptoms</span><span style='background-color: rgba(165.0, 0.0, 0, 0.15); border-radius: 3px;' title='0.0'> of</span><span style='background-color: rgba(165.0, 0.0, 0, 0.15); border-radius: 3px;' title='0.0'> anxiety</span><span style='background-color: rgba(165.0, 0.0, 0, 0.15); border-radius: 3px;' title='0.0'> and</span><span style='background-color: rgba(165.0, 0.0, 0, 0.15); border-radius: 3px;' title='0.0'> depression</span><span style='background-color: rgba(165.0, 0.0, 0, 0.15); border-radius: 3px;' title='0.0'> for</span><span style='background-color: rgba(165.0, 0.0, 0, 0.15); border-radius: 3px;' title='0.0'> several</span><span style='background-color: rgba(165.0, 0.0, 0, 0.15); border-radius: 3px;' title='0.0'> years</span><span style='background-color: rgba(165.0, 0.0, 0, 0.15); border-radius: 3px;' title='0.0'>.</span><span style='background-color: rgba(165.0, 0.0, 0, 0.15); border-radius: 3px;' title='0.0'> I</span><span style='background-color: rgba(165.0, 0.0, 0, 0.15); border-radius: 3px;' title='0.0'> have</span><span style='background-color: rgba(165.0, 0.0, 0, 0.15); border-radius: 3px;' title='0.0'> been</span><span style='background-color: rgba(165.0, 0.0, 0, 0.15); border-radius: 3px;' title='0.0'> diagnosed</span><span style='background-color: rgba(165.0, 0.0, 0, 0.15); border-radius: 3px;' title='0.0'> with</span><span style='background-color: rgba(165.0, 0.0, 0, 0.15); border-radius: 3px;' title='0.0'> generalized</span><span style='background-color: rgba(165.0, 0.0, 0, 0.15); border-radius: 3px;' title='0.0'> anxiety</span><span style='background-color: rgba(165.0, 0.0, 0, 0.15); border-radius: 3px;' title='0.0'> disorder</span></pre>"
      ],
      "text/plain": [
       "<IPython.core.display.HTML object>"
      ]
     },
     "metadata": {},
     "output_type": "display_data"
    }
   ],
   "source": [
    "lm = llamav\n",
    "lm += \"Hello\"\n",
    "lm += gen(max_tokens=30)"
   ]
  },
  {
   "cell_type": "code",
   "execution_count": 14,
   "metadata": {},
   "outputs": [
    {
     "data": {
      "text/html": [
       "<pre style='margin: 0px; padding: 0px; vertical-align: middle; padding-left: 8px; margin-left: -8px; border-radius: 0px; border-left: 1px solid rgba(127, 127, 127, 0.2); white-space: pre-wrap; font-family: ColfaxAI, Arial; font-size: 15px; line-height: 23px;'><div style='display: flex; border-bottom: 1px solid rgba(127, 127, 127, 0.2);  justify-content: center; align-items: center;'><div style='flex: 0 0 80px; opacity: 0.5;'>user</div><div style='flex-grow: 1; padding: 5px; padding-top: 10px; padding-bottom: 10px; margin-top: 0px; white-space: pre-wrap; margin-bottom: 0px;'>What is the capital of Hawaii?</div></div></pre>"
      ],
      "text/plain": [
       "<IPython.core.display.HTML object>"
      ]
     },
     "metadata": {},
     "output_type": "display_data"
    },
    {
     "ename": "ValueError",
     "evalue": "operands could not be broadcast together with shapes (128256,) (128257,) (128256,) ",
     "output_type": "error",
     "traceback": [
      "\u001b[0;31m---------------------------------------------------------------------------\u001b[0m",
      "\u001b[0;31mValueError\u001b[0m                                Traceback (most recent call last)",
      "Cell \u001b[0;32mIn[14], line 8\u001b[0m\n\u001b[1;32m      5\u001b[0m     lm \u001b[38;5;241m+\u001b[39m\u001b[38;5;241m=\u001b[39m \u001b[38;5;124m\"\u001b[39m\u001b[38;5;124mWhat is the capital of Hawaii?\u001b[39m\u001b[38;5;124m\"\u001b[39m\n\u001b[1;32m      7\u001b[0m \u001b[38;5;28;01mwith\u001b[39;00m assistant():\n\u001b[0;32m----> 8\u001b[0m     lm \u001b[38;5;241m+\u001b[39m\u001b[38;5;241m=\u001b[39m gen(stop\u001b[38;5;241m=\u001b[39m\u001b[38;5;124m\"\u001b[39m\u001b[38;5;124m<|end|>\u001b[39m\u001b[38;5;124m\"\u001b[39m)\n\u001b[1;32m     10\u001b[0m \u001b[38;5;28;01mwith\u001b[39;00m user():\n\u001b[1;32m     11\u001b[0m     lm \u001b[38;5;241m+\u001b[39m\u001b[38;5;241m=\u001b[39m \u001b[38;5;124m\"\u001b[39m\u001b[38;5;124mWhat is the population of Hawaii?\u001b[39m\u001b[38;5;124m\"\u001b[39m\n",
      "File \u001b[0;32m~/code/guidance/guidance/models/_model.py:533\u001b[0m, in \u001b[0;36mModel.__add__\u001b[0;34m(self, value)\u001b[0m\n\u001b[1;32m    531\u001b[0m \u001b[38;5;66;03m# run stateless functions (grammar nodes)\u001b[39;00m\n\u001b[1;32m    532\u001b[0m \u001b[38;5;28;01melif\u001b[39;00m \u001b[38;5;28misinstance\u001b[39m(value, GrammarFunction):\n\u001b[0;32m--> 533\u001b[0m     out \u001b[38;5;241m=\u001b[39m \u001b[43mlm\u001b[49m\u001b[38;5;241;43m.\u001b[39;49m\u001b[43m_run_stateless\u001b[49m\u001b[43m(\u001b[49m\u001b[43mvalue\u001b[49m\u001b[43m)\u001b[49m\n\u001b[1;32m    535\u001b[0m \u001b[38;5;66;03m# run stateful functions\u001b[39;00m\n\u001b[1;32m    536\u001b[0m \u001b[38;5;28;01melse\u001b[39;00m:\n\u001b[1;32m    537\u001b[0m     out \u001b[38;5;241m=\u001b[39m value(lm)\n",
      "File \u001b[0;32m~/code/guidance/guidance/models/_model.py:750\u001b[0m, in \u001b[0;36mModel._run_stateless\u001b[0;34m(self, stateless_function, temperature, top_p, n)\u001b[0m\n\u001b[1;32m    748\u001b[0m delayed_bytes \u001b[38;5;241m=\u001b[39m \u001b[38;5;124mb\u001b[39m\u001b[38;5;124m\"\u001b[39m\u001b[38;5;124m\"\u001b[39m\n\u001b[1;32m    749\u001b[0m \u001b[38;5;66;03m# last_is_generated = False\u001b[39;00m\n\u001b[0;32m--> 750\u001b[0m \u001b[38;5;28;01mfor\u001b[39;00m chunk \u001b[38;5;129;01min\u001b[39;00m gen_obj:\n\u001b[1;32m    751\u001b[0m \n\u001b[1;32m    752\u001b[0m     \u001b[38;5;66;03m# we make everything full probability if we are not computing uncertainty\u001b[39;00m\n\u001b[1;32m    753\u001b[0m     \u001b[38;5;66;03m# if not self.engine.compute_log_probs:\u001b[39;00m\n\u001b[1;32m    754\u001b[0m     \u001b[38;5;66;03m#     chunk.new_bytes_prob = 1.0\u001b[39;00m\n\u001b[1;32m    755\u001b[0m \n\u001b[1;32m    756\u001b[0m     \u001b[38;5;66;03m# convert the bytes to a string (delaying if we don't yet have a valid unicode string)\u001b[39;00m\n\u001b[1;32m    757\u001b[0m     lm\u001b[38;5;241m.\u001b[39mtoken_count \u001b[38;5;241m+\u001b[39m\u001b[38;5;241m=\u001b[39m chunk\u001b[38;5;241m.\u001b[39mnew_token_count\n\u001b[1;32m    758\u001b[0m     chunk\u001b[38;5;241m.\u001b[39mnew_bytes \u001b[38;5;241m=\u001b[39m delayed_bytes \u001b[38;5;241m+\u001b[39m chunk\u001b[38;5;241m.\u001b[39mnew_bytes\n",
      "File \u001b[0;32m~/code/guidance/guidance/models/_model.py:178\u001b[0m, in \u001b[0;36mEngine.__call__\u001b[0;34m(self, prompt, grammar, media, ensure_bos_token)\u001b[0m\n\u001b[1;32m    176\u001b[0m             token \u001b[38;5;241m=\u001b[39m \u001b[38;5;28mself\u001b[39m\u001b[38;5;241m.\u001b[39mtokenizer\u001b[38;5;241m.\u001b[39meos_token_id\n\u001b[1;32m    177\u001b[0m     \u001b[38;5;28;01melse\u001b[39;00m:\n\u001b[0;32m--> 178\u001b[0m         token \u001b[38;5;241m=\u001b[39m \u001b[38;5;28;43mself\u001b[39;49m\u001b[38;5;241;43m.\u001b[39;49m\u001b[43mget_next_token\u001b[49m\u001b[43m(\u001b[49m\n\u001b[1;32m    179\u001b[0m \u001b[43m            \u001b[49m\u001b[43mprompt\u001b[49m\u001b[43m,\u001b[49m\n\u001b[1;32m    180\u001b[0m \u001b[43m            \u001b[49m\u001b[43mtoken_ids\u001b[49m\u001b[38;5;241;43m=\u001b[39;49m\u001b[43mgen_data\u001b[49m\u001b[38;5;241;43m.\u001b[39;49m\u001b[43mtokens\u001b[49m\u001b[43m,\u001b[49m\n\u001b[1;32m    181\u001b[0m \u001b[43m            \u001b[49m\u001b[43mmask\u001b[49m\u001b[38;5;241;43m=\u001b[39;49m\u001b[43mgen_data\u001b[49m\u001b[38;5;241;43m.\u001b[39;49m\u001b[43mmask\u001b[49m\u001b[43m,\u001b[49m\n\u001b[1;32m    182\u001b[0m \u001b[43m            \u001b[49m\u001b[43mmedia\u001b[49m\u001b[38;5;241;43m=\u001b[39;49m\u001b[43mmedia\u001b[49m\u001b[43m,\u001b[49m\n\u001b[1;32m    183\u001b[0m \u001b[43m            \u001b[49m\u001b[43mtemperature\u001b[49m\u001b[38;5;241;43m=\u001b[39;49m\u001b[43mgen_data\u001b[49m\u001b[38;5;241;43m.\u001b[39;49m\u001b[43mtemperature\u001b[49m\n\u001b[1;32m    184\u001b[0m \u001b[43m        \u001b[49m\u001b[43m)\u001b[49m\n\u001b[1;32m    185\u001b[0m \u001b[38;5;28;01melse\u001b[39;00m:\n\u001b[1;32m    186\u001b[0m     token \u001b[38;5;241m=\u001b[39m \u001b[38;5;28;01mNone\u001b[39;00m\n",
      "File \u001b[0;32m~/code/guidance/guidance/models/_model.py:195\u001b[0m, in \u001b[0;36mEngine.get_next_token\u001b[0;34m(self, prompt, token_ids, mask, temperature, media)\u001b[0m\n\u001b[1;32m    191\u001b[0m \u001b[38;5;250m\u001b[39m\u001b[38;5;124;03m\"\"\"Base implementation for getting the next token from the model which calls get_logits and sample_with_temperature.\u001b[39;00m\n\u001b[1;32m    192\u001b[0m \u001b[38;5;124;03mSubclasses may override this method, e.g. if they use external APIs that do not support getting logits directly.\u001b[39;00m\n\u001b[1;32m    193\u001b[0m \u001b[38;5;124;03m\"\"\"\u001b[39;00m\n\u001b[1;32m    194\u001b[0m logits \u001b[38;5;241m=\u001b[39m \u001b[38;5;28mself\u001b[39m\u001b[38;5;241m.\u001b[39mget_logits(prompt, token_ids, media)\n\u001b[0;32m--> 195\u001b[0m token \u001b[38;5;241m=\u001b[39m \u001b[38;5;28;43mself\u001b[39;49m\u001b[38;5;241;43m.\u001b[39;49m\u001b[43msample_with_temperature\u001b[49m\u001b[43m(\u001b[49m\u001b[43mlogits\u001b[49m\u001b[43m,\u001b[49m\u001b[43m \u001b[49m\u001b[43mmask\u001b[49m\u001b[43m,\u001b[49m\u001b[43m \u001b[49m\u001b[43mtemperature\u001b[49m\u001b[43m)\u001b[49m\n\u001b[1;32m    196\u001b[0m \u001b[38;5;28;01mreturn\u001b[39;00m token\n",
      "File \u001b[0;32m~/code/guidance/guidance/models/_model.py:203\u001b[0m, in \u001b[0;36mEngine.sample_with_temperature\u001b[0;34m(self, logits, mask, temperature)\u001b[0m\n\u001b[1;32m    201\u001b[0m \u001b[38;5;28;01mdef\u001b[39;00m \u001b[38;5;21msample_with_temperature\u001b[39m(\u001b[38;5;28mself\u001b[39m, logits: np\u001b[38;5;241m.\u001b[39mndarray, mask: Optional[\u001b[38;5;28mbytes\u001b[39m], temperature: \u001b[38;5;28mfloat\u001b[39m) \u001b[38;5;241m-\u001b[39m\u001b[38;5;241m>\u001b[39m \u001b[38;5;28mint\u001b[39m:\n\u001b[1;32m    202\u001b[0m     \u001b[38;5;28;01mif\u001b[39;00m mask \u001b[38;5;129;01mis\u001b[39;00m \u001b[38;5;129;01mnot\u001b[39;00m \u001b[38;5;28;01mNone\u001b[39;00m:\n\u001b[0;32m--> 203\u001b[0m         logits \u001b[38;5;241m+\u001b[39m\u001b[38;5;241m=\u001b[39m np\u001b[38;5;241m.\u001b[39mfrombuffer(mask, dtype\u001b[38;5;241m=\u001b[39mnp\u001b[38;5;241m.\u001b[39muint8)\n\u001b[1;32m    204\u001b[0m     \u001b[38;5;28;01mif\u001b[39;00m temperature \u001b[38;5;241m<\u001b[39m \u001b[38;5;241m0.0001\u001b[39m:\n\u001b[1;32m    205\u001b[0m         \u001b[38;5;28;01mreturn\u001b[39;00m \u001b[38;5;28mint\u001b[39m(np\u001b[38;5;241m.\u001b[39margmax(logits))\n",
      "\u001b[0;31mValueError\u001b[0m: operands could not be broadcast together with shapes (128256,) (128257,) (128256,) "
     ]
    }
   ],
   "source": [
    "lm = phi3v\n",
    "# lm = llamav\n",
    "\n",
    "with user():\n",
    "    lm += \"What is the capital of Hawaii?\"\n",
    "\n",
    "with assistant():\n",
    "    lm += gen(stop=\"<|end|>\")\n",
    "\n",
    "with user():\n",
    "    lm += \"What is the population of Hawaii?\"\n",
    "\n",
    "with assistant():\n",
    "    lm += gen(stop=\"<|end|>\")\n",
    "\n",
    "with user():\n",
    "    lm += \"What country is Hawaii in?\"\n",
    "\n",
    "with assistant():\n",
    "    lm += gen(stop=\"<|end|>\")"
   ]
  },
  {
   "cell_type": "code",
   "execution_count": 4,
   "metadata": {},
   "outputs": [],
   "source": [
    "from guidance import image"
   ]
  },
  {
   "cell_type": "code",
   "execution_count": 5,
   "metadata": {},
   "outputs": [
    {
     "data": {
      "text/html": [
       "<pre style='margin: 0px; padding: 0px; vertical-align: middle; padding-left: 8px; margin-left: -8px; border-radius: 0px; border-left: 1px solid rgba(127, 127, 127, 0.2); white-space: pre-wrap; font-family: ColfaxAI, Arial; font-size: 15px; line-height: 23px;'>What do you see in this image?<img src=\"data:image/png;base64,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\" style=\"max-width: 400px; vertical-align: middle; margin: 4px;\"></pre>"
      ],
      "text/plain": [
       "<IPython.core.display.HTML object>"
      ]
     },
     "metadata": {},
     "output_type": "display_data"
    },
    {
     "ename": "TypeError",
     "evalue": "MllamaForCausalLM.forward() got an unexpected keyword argument 'pixel_values'",
     "output_type": "error",
     "traceback": [
      "\u001b[0;31m---------------------------------------------------------------------------\u001b[0m",
      "\u001b[0;31mTypeError\u001b[0m                                 Traceback (most recent call last)",
      "Cell \u001b[0;32mIn[5], line 4\u001b[0m\n\u001b[1;32m      2\u001b[0m image_url \u001b[38;5;241m=\u001b[39m \u001b[38;5;124m\"\u001b[39m\u001b[38;5;124mhttps://picsum.photos/200/300\u001b[39m\u001b[38;5;124m\"\u001b[39m\n\u001b[1;32m      3\u001b[0m lm \u001b[38;5;241m+\u001b[39m\u001b[38;5;241m=\u001b[39m \u001b[38;5;124m\"\u001b[39m\u001b[38;5;124mWhat do you see in this image?\u001b[39m\u001b[38;5;124m\"\u001b[39m \u001b[38;5;241m+\u001b[39m image(image_url)\n\u001b[0;32m----> 4\u001b[0m lm \u001b[38;5;241m+\u001b[39m\u001b[38;5;241m=\u001b[39m gen(temperature\u001b[38;5;241m=\u001b[39m\u001b[38;5;241m0.8\u001b[39m)\n",
      "File \u001b[0;32m~/code/guidance/guidance/models/_model.py:533\u001b[0m, in \u001b[0;36mModel.__add__\u001b[0;34m(self, value)\u001b[0m\n\u001b[1;32m    531\u001b[0m \u001b[38;5;66;03m# run stateless functions (grammar nodes)\u001b[39;00m\n\u001b[1;32m    532\u001b[0m \u001b[38;5;28;01melif\u001b[39;00m \u001b[38;5;28misinstance\u001b[39m(value, GrammarFunction):\n\u001b[0;32m--> 533\u001b[0m     out \u001b[38;5;241m=\u001b[39m \u001b[43mlm\u001b[49m\u001b[38;5;241;43m.\u001b[39;49m\u001b[43m_run_stateless\u001b[49m\u001b[43m(\u001b[49m\u001b[43mvalue\u001b[49m\u001b[43m)\u001b[49m\n\u001b[1;32m    535\u001b[0m \u001b[38;5;66;03m# run stateful functions\u001b[39;00m\n\u001b[1;32m    536\u001b[0m \u001b[38;5;28;01melse\u001b[39;00m:\n\u001b[1;32m    537\u001b[0m     out \u001b[38;5;241m=\u001b[39m value(lm)\n",
      "File \u001b[0;32m~/code/guidance/guidance/models/_model.py:750\u001b[0m, in \u001b[0;36mModel._run_stateless\u001b[0;34m(self, stateless_function, temperature, top_p, n)\u001b[0m\n\u001b[1;32m    748\u001b[0m delayed_bytes \u001b[38;5;241m=\u001b[39m \u001b[38;5;124mb\u001b[39m\u001b[38;5;124m\"\u001b[39m\u001b[38;5;124m\"\u001b[39m\n\u001b[1;32m    749\u001b[0m \u001b[38;5;66;03m# last_is_generated = False\u001b[39;00m\n\u001b[0;32m--> 750\u001b[0m \u001b[38;5;28;01mfor\u001b[39;00m chunk \u001b[38;5;129;01min\u001b[39;00m gen_obj:\n\u001b[1;32m    751\u001b[0m \n\u001b[1;32m    752\u001b[0m     \u001b[38;5;66;03m# we make everything full probability if we are not computing uncertainty\u001b[39;00m\n\u001b[1;32m    753\u001b[0m     \u001b[38;5;66;03m# if not self.engine.compute_log_probs:\u001b[39;00m\n\u001b[1;32m    754\u001b[0m     \u001b[38;5;66;03m#     chunk.new_bytes_prob = 1.0\u001b[39;00m\n\u001b[1;32m    755\u001b[0m \n\u001b[1;32m    756\u001b[0m     \u001b[38;5;66;03m# convert the bytes to a string (delaying if we don't yet have a valid unicode string)\u001b[39;00m\n\u001b[1;32m    757\u001b[0m     lm\u001b[38;5;241m.\u001b[39mtoken_count \u001b[38;5;241m+\u001b[39m\u001b[38;5;241m=\u001b[39m chunk\u001b[38;5;241m.\u001b[39mnew_token_count\n\u001b[1;32m    758\u001b[0m     chunk\u001b[38;5;241m.\u001b[39mnew_bytes \u001b[38;5;241m=\u001b[39m delayed_bytes \u001b[38;5;241m+\u001b[39m chunk\u001b[38;5;241m.\u001b[39mnew_bytes\n",
      "File \u001b[0;32m~/code/guidance/guidance/models/_model.py:168\u001b[0m, in \u001b[0;36mEngine.__call__\u001b[0;34m(self, prompt, grammar, media, ensure_bos_token)\u001b[0m\n\u001b[1;32m    164\u001b[0m \u001b[38;5;28;01mif\u001b[39;00m parser\u001b[38;5;241m.\u001b[39mis_accepting() \u001b[38;5;129;01mand\u001b[39;00m \u001b[38;5;28mself\u001b[39m\u001b[38;5;241m.\u001b[39mtokenizer\u001b[38;5;241m.\u001b[39meos_token_id \u001b[38;5;129;01mis\u001b[39;00m \u001b[38;5;129;01mnot\u001b[39;00m \u001b[38;5;28;01mNone\u001b[39;00m:\n\u001b[1;32m    165\u001b[0m     \u001b[38;5;66;03m# Whenever we are in an accepting state, we will allow the model to generate whatever it wants\u001b[39;00m\n\u001b[1;32m    166\u001b[0m     \u001b[38;5;66;03m# but we will treat any \"illegal\" tokens as EOS, allowing the model to finish gracefully.\u001b[39;00m\n\u001b[1;32m    167\u001b[0m     \u001b[38;5;28;01massert\u001b[39;00m gen_data\u001b[38;5;241m.\u001b[39mmask[\u001b[38;5;28mself\u001b[39m\u001b[38;5;241m.\u001b[39mtokenizer\u001b[38;5;241m.\u001b[39meos_token_id]\n\u001b[0;32m--> 168\u001b[0m     token \u001b[38;5;241m=\u001b[39m \u001b[38;5;28;43mself\u001b[39;49m\u001b[38;5;241;43m.\u001b[39;49m\u001b[43mget_next_token\u001b[49m\u001b[43m(\u001b[49m\n\u001b[1;32m    169\u001b[0m \u001b[43m        \u001b[49m\u001b[43mprompt\u001b[49m\u001b[43m,\u001b[49m\n\u001b[1;32m    170\u001b[0m \u001b[43m        \u001b[49m\u001b[43mtoken_ids\u001b[49m\u001b[38;5;241;43m=\u001b[39;49m\u001b[43mgen_data\u001b[49m\u001b[38;5;241;43m.\u001b[39;49m\u001b[43mtokens\u001b[49m\u001b[43m,\u001b[49m\n\u001b[1;32m    171\u001b[0m \u001b[43m        \u001b[49m\u001b[43mmask\u001b[49m\u001b[38;5;241;43m=\u001b[39;49m\u001b[38;5;28;43;01mNone\u001b[39;49;00m\u001b[43m,\u001b[49m\n\u001b[1;32m    172\u001b[0m \u001b[43m        \u001b[49m\u001b[43mmedia\u001b[49m\u001b[38;5;241;43m=\u001b[39;49m\u001b[43mmedia\u001b[49m\u001b[43m,\u001b[49m\n\u001b[1;32m    173\u001b[0m \u001b[43m        \u001b[49m\u001b[43mtemperature\u001b[49m\u001b[38;5;241;43m=\u001b[39;49m\u001b[43mgen_data\u001b[49m\u001b[38;5;241;43m.\u001b[39;49m\u001b[43mtemperature\u001b[49m\n\u001b[1;32m    174\u001b[0m \u001b[43m    \u001b[49m\u001b[43m)\u001b[49m\n\u001b[1;32m    175\u001b[0m     \u001b[38;5;28;01mif\u001b[39;00m \u001b[38;5;129;01mnot\u001b[39;00m gen_data\u001b[38;5;241m.\u001b[39mmask[token]:\n\u001b[1;32m    176\u001b[0m         token \u001b[38;5;241m=\u001b[39m \u001b[38;5;28mself\u001b[39m\u001b[38;5;241m.\u001b[39mtokenizer\u001b[38;5;241m.\u001b[39meos_token_id\n",
      "File \u001b[0;32m~/code/guidance/guidance/models/_model.py:194\u001b[0m, in \u001b[0;36mEngine.get_next_token\u001b[0;34m(self, prompt, token_ids, mask, temperature, media)\u001b[0m\n\u001b[1;32m    190\u001b[0m \u001b[38;5;28;01mdef\u001b[39;00m \u001b[38;5;21mget_next_token\u001b[39m(\u001b[38;5;28mself\u001b[39m, prompt: \u001b[38;5;28mbytes\u001b[39m, token_ids: \u001b[38;5;28mlist\u001b[39m[\u001b[38;5;28mint\u001b[39m], mask: Optional[\u001b[38;5;28mbytes\u001b[39m], temperature: \u001b[38;5;28mfloat\u001b[39m, media: Optional[\u001b[38;5;28mdict\u001b[39m]\u001b[38;5;241m=\u001b[39m\u001b[38;5;28;01mNone\u001b[39;00m) \u001b[38;5;241m-\u001b[39m\u001b[38;5;241m>\u001b[39m \u001b[38;5;28mint\u001b[39m:\n\u001b[1;32m    191\u001b[0m \u001b[38;5;250m    \u001b[39m\u001b[38;5;124;03m\"\"\"Base implementation for getting the next token from the model which calls get_logits and sample_with_temperature.\u001b[39;00m\n\u001b[1;32m    192\u001b[0m \u001b[38;5;124;03m    Subclasses may override this method, e.g. if they use external APIs that do not support getting logits directly.\u001b[39;00m\n\u001b[1;32m    193\u001b[0m \u001b[38;5;124;03m    \"\"\"\u001b[39;00m\n\u001b[0;32m--> 194\u001b[0m     logits \u001b[38;5;241m=\u001b[39m \u001b[38;5;28;43mself\u001b[39;49m\u001b[38;5;241;43m.\u001b[39;49m\u001b[43mget_logits\u001b[49m\u001b[43m(\u001b[49m\u001b[43mprompt\u001b[49m\u001b[43m,\u001b[49m\u001b[43m \u001b[49m\u001b[43mtoken_ids\u001b[49m\u001b[43m,\u001b[49m\u001b[43m \u001b[49m\u001b[43mmedia\u001b[49m\u001b[43m)\u001b[49m\n\u001b[1;32m    195\u001b[0m     token \u001b[38;5;241m=\u001b[39m \u001b[38;5;28mself\u001b[39m\u001b[38;5;241m.\u001b[39msample_with_temperature(logits, mask, temperature)\n\u001b[1;32m    196\u001b[0m     \u001b[38;5;28;01mreturn\u001b[39;00m token\n",
      "File \u001b[0;32m~/code/guidance/guidance/models/transformers/_transformers.py:206\u001b[0m, in \u001b[0;36mTransformersEngine.get_logits\u001b[0;34m(self, prompt, token_ids, media)\u001b[0m\n\u001b[1;32m    203\u001b[0m \u001b[38;5;28;01mwith\u001b[39;00m torch\u001b[38;5;241m.\u001b[39mno_grad():\n\u001b[1;32m    204\u001b[0m     \u001b[38;5;66;03m# Not all models support batched tokens for some reason\u001b[39;00m\n\u001b[1;32m    205\u001b[0m     \u001b[38;5;28;01mtry\u001b[39;00m:\n\u001b[0;32m--> 206\u001b[0m         model_out \u001b[38;5;241m=\u001b[39m \u001b[38;5;28;43mself\u001b[39;49m\u001b[38;5;241;43m.\u001b[39;49m\u001b[43mmodel_obj\u001b[49m\u001b[43m(\u001b[49m\n\u001b[1;32m    207\u001b[0m \u001b[43m            \u001b[49m\u001b[38;5;241;43m*\u001b[39;49m\u001b[38;5;241;43m*\u001b[39;49m\u001b[43mmodel_inputs\u001b[49m\u001b[43m,\u001b[49m\n\u001b[1;32m    208\u001b[0m \u001b[43m            \u001b[49m\u001b[43mpast_key_values\u001b[49m\u001b[38;5;241;43m=\u001b[39;49m\u001b[38;5;28;43mself\u001b[39;49m\u001b[38;5;241;43m.\u001b[39;49m\u001b[43m_past_key_values\u001b[49m\u001b[43m,\u001b[49m\n\u001b[1;32m    209\u001b[0m \u001b[43m            \u001b[49m\u001b[43muse_cache\u001b[49m\u001b[38;5;241;43m=\u001b[39;49m\u001b[38;5;28;43;01mTrue\u001b[39;49;00m\u001b[43m,\u001b[49m\n\u001b[1;32m    210\u001b[0m \u001b[43m            \u001b[49m\u001b[43mposition_ids\u001b[49m\u001b[38;5;241;43m=\u001b[39;49m\u001b[43mtorch\u001b[49m\u001b[38;5;241;43m.\u001b[39;49m\u001b[43marange\u001b[49m\u001b[43m(\u001b[49m\u001b[43mpast_length\u001b[49m\u001b[43m,\u001b[49m\u001b[43m \u001b[49m\u001b[43mpast_length\u001b[49m\u001b[43m \u001b[49m\u001b[38;5;241;43m+\u001b[39;49m\u001b[43m \u001b[49m\u001b[38;5;28;43mlen\u001b[39;49m\u001b[43m(\u001b[49m\u001b[43mnew_token_ids\u001b[49m\u001b[43m)\u001b[49m\u001b[43m)\u001b[49m\n\u001b[1;32m    211\u001b[0m \u001b[43m            \u001b[49m\u001b[38;5;241;43m.\u001b[39;49m\u001b[43munsqueeze\u001b[49m\u001b[43m(\u001b[49m\u001b[38;5;241;43m0\u001b[39;49m\u001b[43m)\u001b[49m\n\u001b[1;32m    212\u001b[0m \u001b[43m            \u001b[49m\u001b[38;5;241;43m.\u001b[39;49m\u001b[43mto\u001b[49m\u001b[43m(\u001b[49m\u001b[38;5;28;43mself\u001b[39;49m\u001b[38;5;241;43m.\u001b[39;49m\u001b[43mdevice\u001b[49m\u001b[43m)\u001b[49m\u001b[43m,\u001b[49m\n\u001b[1;32m    213\u001b[0m \u001b[43m            \u001b[49m\u001b[43mreturn_dict\u001b[49m\u001b[38;5;241;43m=\u001b[39;49m\u001b[38;5;28;43;01mTrue\u001b[39;49;00m\u001b[43m,\u001b[49m\n\u001b[1;32m    214\u001b[0m \u001b[43m            \u001b[49m\u001b[43moutput_attentions\u001b[49m\u001b[38;5;241;43m=\u001b[39;49m\u001b[38;5;28;43;01mFalse\u001b[39;49;00m\u001b[43m,\u001b[49m\n\u001b[1;32m    215\u001b[0m \u001b[43m            \u001b[49m\u001b[43moutput_hidden_states\u001b[49m\u001b[38;5;241;43m=\u001b[39;49m\u001b[38;5;28;43;01mFalse\u001b[39;49;00m\u001b[43m,\u001b[49m\n\u001b[1;32m    216\u001b[0m \u001b[43m        \u001b[49m\u001b[43m)\u001b[49m\n\u001b[1;32m    217\u001b[0m     \u001b[38;5;28;01mexcept\u001b[39;00m \u001b[38;5;167;01mAssertionError\u001b[39;00m:\n\u001b[1;32m    218\u001b[0m         \u001b[38;5;28;01mfor\u001b[39;00m i, new_token_id \u001b[38;5;129;01min\u001b[39;00m \u001b[38;5;28menumerate\u001b[39m(new_token_ids):\n",
      "File \u001b[0;32m~/code/guidance/env/lib/python3.10/site-packages/torch/nn/modules/module.py:1553\u001b[0m, in \u001b[0;36mModule._wrapped_call_impl\u001b[0;34m(self, *args, **kwargs)\u001b[0m\n\u001b[1;32m   1551\u001b[0m     \u001b[38;5;28;01mreturn\u001b[39;00m \u001b[38;5;28mself\u001b[39m\u001b[38;5;241m.\u001b[39m_compiled_call_impl(\u001b[38;5;241m*\u001b[39margs, \u001b[38;5;241m*\u001b[39m\u001b[38;5;241m*\u001b[39mkwargs)  \u001b[38;5;66;03m# type: ignore[misc]\u001b[39;00m\n\u001b[1;32m   1552\u001b[0m \u001b[38;5;28;01melse\u001b[39;00m:\n\u001b[0;32m-> 1553\u001b[0m     \u001b[38;5;28;01mreturn\u001b[39;00m \u001b[38;5;28;43mself\u001b[39;49m\u001b[38;5;241;43m.\u001b[39;49m\u001b[43m_call_impl\u001b[49m\u001b[43m(\u001b[49m\u001b[38;5;241;43m*\u001b[39;49m\u001b[43margs\u001b[49m\u001b[43m,\u001b[49m\u001b[43m \u001b[49m\u001b[38;5;241;43m*\u001b[39;49m\u001b[38;5;241;43m*\u001b[39;49m\u001b[43mkwargs\u001b[49m\u001b[43m)\u001b[49m\n",
      "File \u001b[0;32m~/code/guidance/env/lib/python3.10/site-packages/torch/nn/modules/module.py:1562\u001b[0m, in \u001b[0;36mModule._call_impl\u001b[0;34m(self, *args, **kwargs)\u001b[0m\n\u001b[1;32m   1557\u001b[0m \u001b[38;5;66;03m# If we don't have any hooks, we want to skip the rest of the logic in\u001b[39;00m\n\u001b[1;32m   1558\u001b[0m \u001b[38;5;66;03m# this function, and just call forward.\u001b[39;00m\n\u001b[1;32m   1559\u001b[0m \u001b[38;5;28;01mif\u001b[39;00m \u001b[38;5;129;01mnot\u001b[39;00m (\u001b[38;5;28mself\u001b[39m\u001b[38;5;241m.\u001b[39m_backward_hooks \u001b[38;5;129;01mor\u001b[39;00m \u001b[38;5;28mself\u001b[39m\u001b[38;5;241m.\u001b[39m_backward_pre_hooks \u001b[38;5;129;01mor\u001b[39;00m \u001b[38;5;28mself\u001b[39m\u001b[38;5;241m.\u001b[39m_forward_hooks \u001b[38;5;129;01mor\u001b[39;00m \u001b[38;5;28mself\u001b[39m\u001b[38;5;241m.\u001b[39m_forward_pre_hooks\n\u001b[1;32m   1560\u001b[0m         \u001b[38;5;129;01mor\u001b[39;00m _global_backward_pre_hooks \u001b[38;5;129;01mor\u001b[39;00m _global_backward_hooks\n\u001b[1;32m   1561\u001b[0m         \u001b[38;5;129;01mor\u001b[39;00m _global_forward_hooks \u001b[38;5;129;01mor\u001b[39;00m _global_forward_pre_hooks):\n\u001b[0;32m-> 1562\u001b[0m     \u001b[38;5;28;01mreturn\u001b[39;00m \u001b[43mforward_call\u001b[49m\u001b[43m(\u001b[49m\u001b[38;5;241;43m*\u001b[39;49m\u001b[43margs\u001b[49m\u001b[43m,\u001b[49m\u001b[43m \u001b[49m\u001b[38;5;241;43m*\u001b[39;49m\u001b[38;5;241;43m*\u001b[39;49m\u001b[43mkwargs\u001b[49m\u001b[43m)\u001b[49m\n\u001b[1;32m   1564\u001b[0m \u001b[38;5;28;01mtry\u001b[39;00m:\n\u001b[1;32m   1565\u001b[0m     result \u001b[38;5;241m=\u001b[39m \u001b[38;5;28;01mNone\u001b[39;00m\n",
      "File \u001b[0;32m~/code/guidance/env/lib/python3.10/site-packages/accelerate/hooks.py:166\u001b[0m, in \u001b[0;36madd_hook_to_module.<locals>.new_forward\u001b[0;34m(module, *args, **kwargs)\u001b[0m\n\u001b[1;32m    164\u001b[0m         output \u001b[38;5;241m=\u001b[39m module\u001b[38;5;241m.\u001b[39m_old_forward(\u001b[38;5;241m*\u001b[39margs, \u001b[38;5;241m*\u001b[39m\u001b[38;5;241m*\u001b[39mkwargs)\n\u001b[1;32m    165\u001b[0m \u001b[38;5;28;01melse\u001b[39;00m:\n\u001b[0;32m--> 166\u001b[0m     output \u001b[38;5;241m=\u001b[39m \u001b[43mmodule\u001b[49m\u001b[38;5;241;43m.\u001b[39;49m\u001b[43m_old_forward\u001b[49m\u001b[43m(\u001b[49m\u001b[38;5;241;43m*\u001b[39;49m\u001b[43margs\u001b[49m\u001b[43m,\u001b[49m\u001b[43m \u001b[49m\u001b[38;5;241;43m*\u001b[39;49m\u001b[38;5;241;43m*\u001b[39;49m\u001b[43mkwargs\u001b[49m\u001b[43m)\u001b[49m\n\u001b[1;32m    167\u001b[0m \u001b[38;5;28;01mreturn\u001b[39;00m module\u001b[38;5;241m.\u001b[39m_hf_hook\u001b[38;5;241m.\u001b[39mpost_forward(module, output)\n",
      "\u001b[0;31mTypeError\u001b[0m: MllamaForCausalLM.forward() got an unexpected keyword argument 'pixel_values'"
     ]
    }
   ],
   "source": [
    "lm = llamav\n",
    "image_url = \"https://picsum.photos/200/300\"\n",
    "lm += \"What do you see in this image?\" + image(image_url)\n",
    "lm += gen(temperature=0.8)\n"
   ]
  },
  {
   "cell_type": "code",
   "execution_count": 16,
   "metadata": {},
   "outputs": [
    {
     "name": "stdout",
     "output_type": "stream",
     "text": [
      "<class 'guidance.models.transformers._transformers.Transformers'>\n"
     ]
    },
    {
     "ename": "TypeError",
     "evalue": "'NoneType' object is not callable",
     "output_type": "error",
     "traceback": [
      "\u001b[0;31m---------------------------------------------------------------------------\u001b[0m",
      "\u001b[0;31mTypeError\u001b[0m                                 Traceback (most recent call last)",
      "Cell \u001b[0;32mIn[16], line 9\u001b[0m\n\u001b[1;32m      7\u001b[0m     image_url \u001b[38;5;241m=\u001b[39m \u001b[38;5;124m\"\u001b[39m\u001b[38;5;124mhttps://picsum.photos/200/300\u001b[39m\u001b[38;5;124m\"\u001b[39m\n\u001b[1;32m      8\u001b[0m     \u001b[38;5;28mprint\u001b[39m(\u001b[38;5;28mtype\u001b[39m(lm))\n\u001b[0;32m----> 9\u001b[0m     lm \u001b[38;5;241m+\u001b[39m\u001b[38;5;241m=\u001b[39m \u001b[38;5;124m\"\u001b[39m\u001b[38;5;124mWhat do you see in this image?\u001b[39m\u001b[38;5;124m\"\u001b[39m \u001b[38;5;241m+\u001b[39m \u001b[43mimage\u001b[49m\u001b[43m(\u001b[49m\u001b[43mimage_url\u001b[49m\u001b[43m)\u001b[49m\n\u001b[1;32m     11\u001b[0m \u001b[38;5;28;01mwith\u001b[39;00m assistant():\n\u001b[1;32m     12\u001b[0m     lm \u001b[38;5;241m+\u001b[39m\u001b[38;5;241m=\u001b[39m gen(temperature\u001b[38;5;241m=\u001b[39m\u001b[38;5;241m0.8\u001b[39m)\n",
      "\u001b[0;31mTypeError\u001b[0m: 'NoneType' object is not callable"
     ]
    }
   ],
   "source": [
    "# No constraints test\n",
    "\n",
    "lm = phi3v\n",
    "\n",
    "with user():\n",
    "    image_url = \"https://picsum.photos/200/300\"\n",
    "    print(type(lm))\n",
    "    lm += \"What do you see in this image?\" + image(image_url)\n",
    "\n",
    "with assistant():\n",
    "    lm += gen(temperature=0.8)"
   ]
  },
  {
   "cell_type": "code",
   "execution_count": 5,
   "metadata": {},
   "outputs": [
    {
     "data": {
      "text/html": [
       "<pre style='margin: 0px; padding: 0px; vertical-align: middle; padding-left: 8px; margin-left: -8px; border-radius: 0px; border-left: 1px solid rgba(127, 127, 127, 0.2); white-space: pre-wrap; font-family: ColfaxAI, Arial; font-size: 15px; line-height: 23px;'><div style='display: flex; border-bottom: 1px solid rgba(127, 127, 127, 0.2);  justify-content: center; align-items: center;'><div style='flex: 0 0 80px; opacity: 0.5;'>user</div><div style='flex-grow: 1; padding: 5px; padding-top: 10px; padding-bottom: 10px; margin-top: 0px; white-space: pre-wrap; margin-bottom: 0px;'>What do you see in this image?<img src=\"data:image/png;base64,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\" style=\"max-width: 400px; vertical-align: middle; margin: 4px;\"></div></div><div style='display: flex; border-bottom: 1px solid rgba(127, 127, 127, 0.2);  justify-content: center; align-items: center;'><div style='flex: 0 0 80px; opacity: 0.5;'>assistant</div><div style='flex-grow: 1; padding: 5px; padding-top: 10px; padding-bottom: 10px; margin-top: 0px; white-space: pre-wrap; margin-bottom: 0px;'>The image portrays a <span style='background-color: rgba(165.0, 0.0, 0, 0.15); border-radius: 3px;' title='0.0'>vast</span><span style='background-color: rgba(165.0, 0.0, 0, 0.15); border-radius: 3px;' title='0.0'>,</span><span style='background-color: rgba(165.0, 0.0, 0, 0.15); border-radius: 3px;' title='0.0'> open</span><span style='background-color: rgba(165.0, 0.0, 0, 0.15); border-radius: 3px;' title='0.0'> landscape</span> <span style='background-color: rgba(165.0, 0.0, 0, 0.15); border-radius: 3px;' title='0.0'>under</span><span style='background-color: rgba(165.0, 0.0, 0, 0.15); border-radius: 3px;' title='0.0'> a</span><span style='background-color: rgba(165.0, 0.0, 0, 0.15); border-radius: 3px;' title='0.0'> clear</span><span style='background-color: rgba(165.0, 0.0, 0, 0.15); border-radius: 3px;' title='0.0'> blue</span> <span style='background-color: rgba(165.0, 0.0, 0, 0.15); border-radius: 3px;' title='0.0'>sky</span><span style='background-color: rgba(165.0, 0.0, 0, 0.15); border-radius: 3px;' title='0.0'>.</span><span style='background-color: rgba(165.0, 0.0, 0, 0.15); border-radius: 3px;' title='0.0'> The</span><span style='background-color: rgba(165.0, 0.0, 0, 0.15); border-radius: 3px;' title='0.0'> terrain</span> <span style='background-color: rgba(165.0, 0.0, 0, 0.15); border-radius: 3px;' title='0.0'>is</span><span style='background-color: rgba(165.0, 0.0, 0, 0.15); border-radius: 3px;' title='0.0'> a</span><span style='background-color: rgba(165.0, 0.0, 0, 0.15); border-radius: 3px;' title='0.0'> mix</span><span style='background-color: rgba(165.0, 0.0, 0, 0.15); border-radius: 3px;' title='0.0'> of</span> <span style='background-color: rgba(165.0, 0.0, 0, 0.15); border-radius: 3px;' title='0.0'>brown</span><span style='background-color: rgba(165.0, 0.0, 0, 0.15); border-radius: 3px;' title='0.0'> and</span><span style='background-color: rgba(165.0, 0.0, 0, 0.15); border-radius: 3px;' title='0.0'> orange</span><span style='background-color: rgba(165.0, 0.0, 0, 0.15); border-radius: 3px;' title='0.0'> h</span> <span style='background-color: rgba(165.0, 0.0, 0, 0.15); border-radius: 3px;' title='0.0'>communes</span><span style='background-color: rgba(165.0, 0.0, 0, 0.15); border-radius: 3px;' title='0.0'>,</span><span style='background-color: rgba(165.0, 0.0, 0, 0.15); border-radius: 3px;' title='0.0'> with</span><span style='background-color: rgba(165.0, 0.0, 0, 0.15); border-radius: 3px;' title='0.0'> the</span> <span style='background-color: rgba(165.0, 0.0, 0, 0.15); border-radius: 3px;' title='0.0'>brown</span><span style='background-color: rgba(165.0, 0.0, 0, 0.15); border-radius: 3px;' title='0.0'> areas</span><span style='background-color: rgba(165.0, 0.0, 0, 0.15); border-radius: 3px;' title='0.0'> appearing</span><span style='background-color: rgba(165.0, 0.0, 0, 0.15); border-radius: 3px;' title='0.0'> to</span> <span style='background-color: rgba(165.0, 0.0, 0, 0.15); border-radius: 3px;' title='0.0'>be</span><span style='background-color: rgba(165.0, 0.0, 0, 0.15); border-radius: 3px;' title='0.0'> rock</span><span style='background-color: rgba(165.0, 0.0, 0, 0.15); border-radius: 3px;' title='0.0'>y</span><span style='background-color: rgba(165.0, 0.0, 0, 0.15); border-radius: 3px;' title='0.0'> and</span> <span style='background-color: rgba(165.0, 0.0, 0, 0.15); border-radius: 3px;' title='0.0'>the</span><span style='background-color: rgba(165.0, 0.0, 0, 0.15); border-radius: 3px;' title='0.0'> orange</span><span style='background-color: rgba(165.0, 0.0, 0, 0.15); border-radius: 3px;' title='0.0'> ones</span><span style='background-color: rgba(165.0, 0.0, 0, 0.15); border-radius: 3px;' title='0.0'> res</span> <span style='background-color: rgba(165.0, 0.0, 0, 0.15); border-radius: 3px;' title='0.0'>emb</span><span style='background-color: rgba(165.0, 0.0, 0, 0.15); border-radius: 3px;' title='0.0'>ling</span><span style='background-color: rgba(165.0, 0.0, 0, 0.15); border-radius: 3px;' title='0.0'> a</span><span style='background-color: rgba(165.0, 0.0, 0, 0.15); border-radius: 3px;' title='0.0'> more</span><span style='background-color: rgba(165.0, 0.0, 0, 0.15); border-radius: 3px;' title='0.0'> bar</span> @<span style='background-color: rgba(165.0, 0.0, 0, 0.15); border-radius: 3px;' title='0.0'>d</span><span style='background-color: rgba(165.0, 0.0, 0, 0.15); border-radius: 3px;' title='0.0'>ish</span><span style='background-color: rgba(165.0, 0.0, 0, 0.15); border-radius: 3px;' title='0.0'>w</span><span style='background-color: rgba(165.0, 0.0, 0, 0.15); border-radius: 3px;' title='0.0'>ash</span><span style='background-color: rgba(165.0, 0.0, 0, 0.15); border-radius: 3px;' title='0.0'>er</span><span style='background-color: rgba(165.0, 0.0, 0, 0.15); border-radius: 3px;' title='0.0'>r</span><span style='background-color: rgba(165.0, 0.0, 0, 0.15); border-radius: 3px;' title='0.0'>pr</span><span style='background-color: rgba(165.0, 0.0, 0, 0.15); border-radius: 3px;' title='0.0'>in</span><span style='background-color: rgba(165.0, 0.0, 0, 0.15); border-radius: 3px;' title='0.0'> </span><span style='background-color: rgba(165.0, 0.0, 0, 0.15); border-radius: 3px;' title='0.0'>America</span><span style='background-color: rgba(165.0, 0.0, 0, 0.15); border-radius: 3px;' title='0.0'> </span><span style='background-color: rgba(165.0, 0.0, 0, 0.15); border-radius: 3px;' title='0.0'>Best</span><span style='background-color: rgba(165.0, 0.0, 0, 0.15); border-radius: 3px;' title='0.0'> </span><span style='background-color: rgba(165.0, 0.0, 0, 0.15); border-radius: 3px;' title='0.0'>Country</span><span style='background-color: rgba(165.0, 0.0, 0, 0.15); border-radius: 3px;' title='0.0'> </span><span style='background-color: rgba(165.0, 0.0, 0, 0.15); border-radius: 3px;' title='0.0'>Desktop</span><span style='background-color: rgba(165.0, 0.0, 0, 0.15); border-radius: 3px;' title='0.0'> </span><span style='background-color: rgba(165.0, 0.0, 0, 0.15); border-radius: 3px;' title='0.0'>Email</span><span style='background-color: rgba(165.0, 0.0, 0, 0.15); border-radius: 3px;' title='0.0'>s</span><span style='background-color: rgba(165.0, 0.0, 0, 0.15); border-radius: 3px;' title='0.0'> </span><span style='background-color: rgba(165.0, 0.0, 0, 0.15); border-radius: 3px;' title='0.0'>Face</span><span style='background-color: rgba(165.0, 0.0, 0, 0.15); border-radius: 3px;' title='0.0'>book</span><span style='background-color: rgba(165.0, 0.0, 0, 0.15); border-radius: 3px;' title='0.0'> </span><span style='background-color: rgba(165.0, 0.0, 0, 0.15); border-radius: 3px;' title='0.0'>Google</span><span style='background-color: rgba(165.0, 0.0, 0, 0.15); border-radius: 3px;' title='0.0'> </span><span style='background-color: rgba(165.0, 0.0, 0, 0.15); border-radius: 3px;' title='0.0'>Home</span><span style='background-color: rgba(165.0, 0.0, 0, 0.15); border-radius: 3px;' title='0.0'>page</span><span style='background-color: rgba(165.0, 0.0, 0, 0.15); border-radius: 3px;' title='0.0'> </span><span style='background-color: rgba(165.0, 0.0, 0, 0.15); border-radius: 3px;' title='0.0'>Inst</span><span style='background-color: rgba(165.0, 0.0, 0, 0.15); border-radius: 3px;' title='0.0'>agram</span><span style='background-color: rgba(165.0, 0.0, 0, 0.15); border-radius: 3px;' title='0.0'> </span><span style='background-color: rgba(165.0, 0.0, 0, 0.15); border-radius: 3px;' title='0.0'>Jo</span><span style='background-color: rgba(165.0, 0.0, 0, 0.15); border-radius: 3px;' title='0.0'>y</span><span style='background-color: rgba(165.0, 0.0, 0, 0.15); border-radius: 3px;' title='0.0'>ce</span><span style='background-color: rgba(165.0, 0.0, 0, 0.15); border-radius: 3px;' title='0.0'> </span><span style='background-color: rgba(165.0, 0.0, 0, 0.15); border-radius: 3px;' title='0.0'>K</span><span style='background-color: rgba(165.0, 0.0, 0, 0.15); border-radius: 3px;' title='0.0'>oo</span><span style='background-color: rgba(165.0, 0.0, 0, 0.15); border-radius: 3px;' title='0.0'> </span><span style='background-color: rgba(165.0, 0.0, 0, 0.15); border-radius: 3px;' title='0.0'>Live</span><span style='background-color: rgba(165.0, 0.0, 0, 0.15); border-radius: 3px;' title='0.0'> </span><span style='background-color: rgba(165.0, 0.0, 0, 0.15); border-radius: 3px;' title='0.0'>M</span><span style='background-color: rgba(165.0, 0.0, 0, 0.15); border-radius: 3px;' title='0.0'>essen</span><span style='background-color: rgba(165.0, 0.0, 0, 0.15); border-radius: 3px;' title='0.0'>ger</span><span style='background-color: rgba(165.0, 0.0, 0, 0.15); border-radius: 3px;' title='0.0'> </span><span style='background-color: rgba(165.0, 0.0, 0, 0.15); border-radius: 3px;' title='0.0'>News</span><span style='background-color: rgba(165.0, 0.0, 0, 0.15); border-radius: 3px;' title='0.0'>letter</span><span style='background-color: rgba(165.0, 0.0, 0, 0.15); border-radius: 3px;' title='0.0'> </span>, but I lied, actually it shows <span style='background-color: rgba(165.0, 0.0, 0, 0.15); border-radius: 3px;' title='0.0'>a</span><span style='background-color: rgba(165.0, 0.0, 0, 0.15); border-radius: 3px;' title='0.0'> desert</span><span style='background-color: rgba(165.0, 0.0, 0, 0.15); border-radius: 3px;' title='0.0'> landscape</span><span style='background-color: rgba(165.0, 0.0, 0, 0.15); border-radius: 3px;' title='0.0'> with</span> <span style='background-color: rgba(165.0, 0.0, 0, 0.15); border-radius: 3px;' title='0.0'>hills</span><span style='background-color: rgba(165.0, 0.0, 0, 0.15); border-radius: 3px;' title='0.0'> and</span><span style='background-color: rgba(165.0, 0.0, 0, 0.15); border-radius: 3px;' title='0.0'> mountains</span><span style='background-color: rgba(165.0, 0.0, 0, 0.15); border-radius: 3px;' title='0.0'> in</span> <span style='background-color: rgba(165.0, 0.0, 0, 0.15); border-radius: 3px;' title='0.0'>the</span><span style='background-color: rgba(165.0, 0.0, 0, 0.15); border-radius: 3px;' title='0.0'> distance</span><span style='background-color: rgba(165.0, 0.0, 0, 0.15); border-radius: 3px;' title='0.0'>.</span><span style='background-color: rgba(165.0, 0.0, 0, 0.15); border-radius: 3px;' title='0.0'> The</span> <span style='background-color: rgba(165.0, 0.0, 0, 0.15); border-radius: 3px;' title='0.0'>sky</span><span style='background-color: rgba(165.0, 0.0, 0, 0.15); border-radius: 3px;' title='0.0'> is</span><span style='background-color: rgba(165.0, 0.0, 0, 0.15); border-radius: 3px;' title='0.0'> a</span><span style='background-color: rgba(165.0, 0.0, 0, 0.15); border-radius: 3px;' title='0.0'> deep</span> <span style='background-color: rgba(165.0, 0.0, 0, 0.15); border-radius: 3px;' title='0.0'>blue</span><span style='background-color: rgba(165.0, 0.0, 0, 0.15); border-radius: 3px;' title='0.0'>,</span><span style='background-color: rgba(165.0, 0.0, 0, 0.15); border-radius: 3px;' title='0.0'> with</span><span style='background-color: rgba(165.0, 0.0, 0, 0.15); border-radius: 3px;' title='0.0'> a</span> <span style='background-color: rgba(165.0, 0.0, 0, 0.15); border-radius: 3px;' title='0.0'>few</span><span style='background-color: rgba(165.0, 0.0, 0, 0.15); border-radius: 3px;' title='0.0'> wis</span><span style='background-color: rgba(165.0, 0.0, 0, 0.15); border-radius: 3px;' title='0.0'>py</span><span style='background-color: rgba(165.0, 0.0, 0, 0.15); border-radius: 3px;' title='0.0'> clouds</span> <span style='background-color: rgba(165.0, 0.0, 0, 0.15); border-radius: 3px;' title='0.0'>scattered</span><span style='background-color: rgba(165.0, 0.0, 0, 0.15); border-radius: 3px;' title='0.0'> across</span><span style='background-color: rgba(165.0, 0.0, 0, 0.15); border-radius: 3px;' title='0.0'> it</span><span style='background-color: rgba(165.0, 0.0, 0, 0.15); border-radius: 3px;' title='0.0'>.</span> <span style='background-color: rgba(165.0, 0.0, 0, 0.15); border-radius: 3px;' title='0.0'>xt</span><span style='background-color: rgba(165.0, 0.0, 0, 0.15); border-radius: 3px;' title='0.0'>ra</span><span style='background-color: rgba(165.0, 0.0, 0, 0.15); border-radius: 3px;' title='0.0'>ordinary</span><span style='background-color: rgba(165.0, 0.0, 0, 0.15); border-radius: 3px;' title='0.0'>,</span><span style='background-color: rgba(165.0, 0.0, 0, 0.15); border-radius: 3px;' title='0.0'> but</span><span style='background-color: rgba(165.0, 0.0, 0, 0.15); border-radius: 3px;' title='0.0'> I</span> <span style='background-color: rgba(165.0, 0.0, 0, 0.15); border-radius: 3px;' title='0.0'>li</span><span style='background-color: rgba(165.0, 0.0, 0, 0.15); border-radius: 3px;' title='0.0'>ed</span><span style='background-color: rgba(165.0, 0.0, 0, 0.15); border-radius: 3px;' title='0.0'>,</span><span style='background-color: rgba(165.0, 0.0, 0, 0.15); border-radius: 3px;' title='0.0'> actually</span><span style='background-color: rgba(165.0, 0.0, 0, 0.15); border-radius: 3px;' title='0.0'> it</span> <span style='background-color: rgba(165.0, 0.0, 0, 0.15); border-radius: 3px;' title='0.0'>shows</span><span style='background-color: rgba(165.0, 0.0, 0, 0.15); border-radius: 3px;' title='0.0'> a</span><span style='background-color: rgba(165.0, 0.0, 0, 0.15); border-radius: 3px;' title='0.0'> desert</span><span style='background-color: rgba(165.0, 0.0, 0, 0.15); border-radius: 3px;' title='0.0'> landscape</span> </div></div></pre>"
      ],
      "text/plain": [
       "<IPython.core.display.HTML object>"
      ]
     },
     "metadata": {},
     "output_type": "display_data"
    }
   ],
   "source": [
    "# With constraints test\n",
    "\n",
    "lm = phi3v\n",
    "\n",
    "with user():\n",
    "    image_url = \"https://picsum.photos/200/300\"\n",
    "    lm += \"What do you see in this image?\" + image(image_url)\n",
    "\n",
    "with assistant():\n",
    "    # lm += \"The image portrays a \" + select([\"dog\", \"cat\", \"person\", \"thing\", \"place\"])\n",
    "    lm += f'The image portrays a ' \n",
    "    for i in range(10):\n",
    "        lm += regex(\"[a-z]{1,16}\") + gen(max_tokens=3) + ' '\n",
    "    for i in range(15):\n",
    "        lm += chr(ord('A') - 1 + i) + regex(\"[a-z]{1,16}\") + ' '\n",
    "    lm += f', but I lied, actually it shows '\n",
    "    for i in range(10):\n",
    "        lm += regex(\"[a-z]{1,16}\") + gen(max_tokens=3) + ' '"
   ]
  },
  {
   "cell_type": "code",
   "execution_count": 6,
   "metadata": {},
   "outputs": [
    {
     "name": "stdout",
     "output_type": "stream",
     "text": [
      "<|user|>\n",
      "What do you see in this image?<|_IMAGE:94898769574208|><|end|>\n",
      "<|assistant|>\n",
      "The image portrays a vintage car, ex machina, in a state of disrep air. The car is painted in a shade of black, with a white stri peeking out from the side. The h ighlight of the car @sits Autoworks Buick Century Deluxe Engines Fontana Greenwich Henry Indicator Joyce Kensington Labels Motorcycle News , but I lied, actually it shows the emblem of the Buick Century on the side of the car. The car is parked in a dimly lit garage, with a brick wall visible in the background and a white light <|end|>\n",
      "\n"
     ]
    }
   ],
   "source": [
    "print(lm)"
   ]
  },
  {
   "cell_type": "code",
   "execution_count": 8,
   "metadata": {},
   "outputs": [
    {
     "name": "stdout",
     "output_type": "stream",
     "text": [
      "<|user|>\n",
      "What do you see in this image?<|_IMAGE:94898754310144|><|end|>\n",
      "<|assistant|>\n",
      "The image portrays a vintage car, ex machina, in a state of disrep air. The car is painted in a shade of black, with a white stri peeking out from the side. The h ighlight of the car @sits Autoworks Buick Century Deluxe Engines Fontana Greenwich Henry Indicator Joyce Kensington Labels Motorcycle News , but I lied, actually it shows the emblem of the Buick Century on the side of the car. The car is parked in a dimly lit garage, with a brick wall visible in the background and a white light <|end|>\n",
      "\n"
     ]
    }
   ],
   "source": [
    "print(lm)"
   ]
  },
  {
   "cell_type": "code",
   "execution_count": null,
   "metadata": {},
   "outputs": [],
   "source": []
  }
 ],
 "metadata": {
  "kernelspec": {
   "display_name": "env",
   "language": "python",
   "name": "python3"
  },
  "language_info": {
   "codemirror_mode": {
    "name": "ipython",
    "version": 3
   },
   "file_extension": ".py",
   "mimetype": "text/x-python",
   "name": "python",
   "nbconvert_exporter": "python",
   "pygments_lexer": "ipython3",
   "version": "3.10.14"
  }
 },
 "nbformat": 4,
 "nbformat_minor": 2
}
